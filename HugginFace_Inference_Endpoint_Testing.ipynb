{
  "nbformat": 4,
  "nbformat_minor": 0,
  "metadata": {
    "colab": {
      "provenance": []
    },
    "kernelspec": {
      "name": "python3",
      "display_name": "Python 3"
    },
    "language_info": {
      "name": "python"
    }
  },
  "cells": [
    {
      "cell_type": "code",
      "source": [
        "import requests\n",
        "\n",
        "headers = {\n",
        "    'Authorization': 'Bearer <Enter token here>',\n",
        "    'Content-Type': 'application/json',\n",
        "}\n",
        "\n",
        "json_data = {\n",
        "    'inputs': 'My name is Mariama, my favorite',\n",
        "}\n",
        "\n",
        "response = requests.post('<Enter Endpoint here>', headers=headers, json=json_data)"
      ],
      "metadata": {
        "id": "EyMX8yZ3s5Xv"
      },
      "execution_count": null,
      "outputs": []
    },
    {
      "cell_type": "code",
      "source": [
        "response.text[20:-3]"
      ],
      "metadata": {
        "colab": {
          "base_uri": "https://localhost:8080/",
          "height": 36
        },
        "id": "AmeMG117u1L-",
        "outputId": "7cc4a456-3fe5-44fa-cac1-8aacad0dd488"
      },
      "execution_count": null,
      "outputs": [
        {
          "output_type": "execute_result",
          "data": {
            "text/plain": [
              "'color is blue, and I am a student at the University of The Gambia. I am'"
            ],
            "application/vnd.google.colaboratory.intrinsic+json": {
              "type": "string"
            }
          },
          "metadata": {},
          "execution_count": 8
        }
      ]
    },
    {
      "cell_type": "code",
      "source": [],
      "metadata": {
        "id": "NyN3SjdmyS_L"
      },
      "execution_count": null,
      "outputs": []
    }
  ]
}