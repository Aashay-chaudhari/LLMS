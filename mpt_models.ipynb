{
  "cells": [
    {
      "cell_type": "code",
      "execution_count": 1,
      "metadata": {
        "colab": {
          "base_uri": "https://localhost:8080/"
        },
        "id": "itWv7iS0kacr",
        "outputId": "06018c0c-00d6-40cc-d781-ebbab58b3802"
      },
      "outputs": [
        {
          "output_type": "stream",
          "name": "stdout",
          "text": [
            "Looking in indexes: https://pypi.org/simple, https://us-python.pkg.dev/colab-wheels/public/simple/\n",
            "Collecting accelerate\n",
            "  Downloading accelerate-0.20.3-py3-none-any.whl (227 kB)\n",
            "\u001b[2K     \u001b[90m━━━━━━━━━━━━━━━━━━━━━━━━━━━━━━━━━━━━━━\u001b[0m \u001b[32m227.6/227.6 kB\u001b[0m \u001b[31m15.3 MB/s\u001b[0m eta \u001b[36m0:00:00\u001b[0m\n",
            "\u001b[?25hCollecting transformers\n",
            "  Downloading transformers-4.30.1-py3-none-any.whl (7.2 MB)\n",
            "\u001b[2K     \u001b[90m━━━━━━━━━━━━━━━━━━━━━━━━━━━━━━━━━━━━━━━━\u001b[0m \u001b[32m7.2/7.2 MB\u001b[0m \u001b[31m56.2 MB/s\u001b[0m eta \u001b[36m0:00:00\u001b[0m\n",
            "\u001b[?25hCollecting SentencePiece\n",
            "  Downloading sentencepiece-0.1.99-cp310-cp310-manylinux_2_17_x86_64.manylinux2014_x86_64.whl (1.3 MB)\n",
            "\u001b[2K     \u001b[90m━━━━━━━━━━━━━━━━━━━━━━━━━━━━━━━━━━━━━━━━\u001b[0m \u001b[32m1.3/1.3 MB\u001b[0m \u001b[31m77.9 MB/s\u001b[0m eta \u001b[36m0:00:00\u001b[0m\n",
            "\u001b[?25hCollecting bitsandbytes\n",
            "  Downloading bitsandbytes-0.39.0-py3-none-any.whl (92.2 MB)\n",
            "\u001b[2K     \u001b[90m━━━━━━━━━━━━━━━━━━━━━━━━━━━━━━━━━━━━━━━━\u001b[0m \u001b[32m92.2/92.2 MB\u001b[0m \u001b[31m8.1 MB/s\u001b[0m eta \u001b[36m0:00:00\u001b[0m\n",
            "\u001b[?25hCollecting einops\n",
            "  Downloading einops-0.6.1-py3-none-any.whl (42 kB)\n",
            "\u001b[2K     \u001b[90m━━━━━━━━━━━━━━━━━━━━━━━━━━━━━━━━━━━━━━━━\u001b[0m \u001b[32m42.2/42.2 kB\u001b[0m \u001b[31m6.3 MB/s\u001b[0m eta \u001b[36m0:00:00\u001b[0m\n",
            "\u001b[?25hRequirement already satisfied: numpy>=1.17 in /usr/local/lib/python3.10/dist-packages (from accelerate) (1.22.4)\n",
            "Requirement already satisfied: packaging>=20.0 in /usr/local/lib/python3.10/dist-packages (from accelerate) (23.1)\n",
            "Requirement already satisfied: psutil in /usr/local/lib/python3.10/dist-packages (from accelerate) (5.9.5)\n",
            "Requirement already satisfied: pyyaml in /usr/local/lib/python3.10/dist-packages (from accelerate) (6.0)\n",
            "Requirement already satisfied: torch>=1.6.0 in /usr/local/lib/python3.10/dist-packages (from accelerate) (2.0.1+cu118)\n",
            "Requirement already satisfied: filelock in /usr/local/lib/python3.10/dist-packages (from transformers) (3.12.0)\n",
            "Collecting huggingface-hub<1.0,>=0.14.1 (from transformers)\n",
            "  Downloading huggingface_hub-0.15.1-py3-none-any.whl (236 kB)\n",
            "\u001b[2K     \u001b[90m━━━━━━━━━━━━━━━━━━━━━━━━━━━━━━━━━━━━━━\u001b[0m \u001b[32m236.8/236.8 kB\u001b[0m \u001b[31m34.8 MB/s\u001b[0m eta \u001b[36m0:00:00\u001b[0m\n",
            "\u001b[?25hRequirement already satisfied: regex!=2019.12.17 in /usr/local/lib/python3.10/dist-packages (from transformers) (2022.10.31)\n",
            "Requirement already satisfied: requests in /usr/local/lib/python3.10/dist-packages (from transformers) (2.27.1)\n",
            "Collecting tokenizers!=0.11.3,<0.14,>=0.11.1 (from transformers)\n",
            "  Downloading tokenizers-0.13.3-cp310-cp310-manylinux_2_17_x86_64.manylinux2014_x86_64.whl (7.8 MB)\n",
            "\u001b[2K     \u001b[90m━━━━━━━━━━━━━━━━━━━━━━━━━━━━━━━━━━━━━━━━\u001b[0m \u001b[32m7.8/7.8 MB\u001b[0m \u001b[31m120.5 MB/s\u001b[0m eta \u001b[36m0:00:00\u001b[0m\n",
            "\u001b[?25hCollecting safetensors>=0.3.1 (from transformers)\n",
            "  Downloading safetensors-0.3.1-cp310-cp310-manylinux_2_17_x86_64.manylinux2014_x86_64.whl (1.3 MB)\n",
            "\u001b[2K     \u001b[90m━━━━━━━━━━━━━━━━━━━━━━━━━━━━━━━━━━━━━━━━\u001b[0m \u001b[32m1.3/1.3 MB\u001b[0m \u001b[31m94.6 MB/s\u001b[0m eta \u001b[36m0:00:00\u001b[0m\n",
            "\u001b[?25hRequirement already satisfied: tqdm>=4.27 in /usr/local/lib/python3.10/dist-packages (from transformers) (4.65.0)\n",
            "Requirement already satisfied: fsspec in /usr/local/lib/python3.10/dist-packages (from huggingface-hub<1.0,>=0.14.1->transformers) (2023.4.0)\n",
            "Requirement already satisfied: typing-extensions>=3.7.4.3 in /usr/local/lib/python3.10/dist-packages (from huggingface-hub<1.0,>=0.14.1->transformers) (4.5.0)\n",
            "Requirement already satisfied: sympy in /usr/local/lib/python3.10/dist-packages (from torch>=1.6.0->accelerate) (1.11.1)\n",
            "Requirement already satisfied: networkx in /usr/local/lib/python3.10/dist-packages (from torch>=1.6.0->accelerate) (3.1)\n",
            "Requirement already satisfied: jinja2 in /usr/local/lib/python3.10/dist-packages (from torch>=1.6.0->accelerate) (3.1.2)\n",
            "Requirement already satisfied: triton==2.0.0 in /usr/local/lib/python3.10/dist-packages (from torch>=1.6.0->accelerate) (2.0.0)\n",
            "Requirement already satisfied: cmake in /usr/local/lib/python3.10/dist-packages (from triton==2.0.0->torch>=1.6.0->accelerate) (3.25.2)\n",
            "Requirement already satisfied: lit in /usr/local/lib/python3.10/dist-packages (from triton==2.0.0->torch>=1.6.0->accelerate) (16.0.5)\n",
            "Requirement already satisfied: urllib3<1.27,>=1.21.1 in /usr/local/lib/python3.10/dist-packages (from requests->transformers) (1.26.15)\n",
            "Requirement already satisfied: certifi>=2017.4.17 in /usr/local/lib/python3.10/dist-packages (from requests->transformers) (2022.12.7)\n",
            "Requirement already satisfied: charset-normalizer~=2.0.0 in /usr/local/lib/python3.10/dist-packages (from requests->transformers) (2.0.12)\n",
            "Requirement already satisfied: idna<4,>=2.5 in /usr/local/lib/python3.10/dist-packages (from requests->transformers) (3.4)\n",
            "Requirement already satisfied: MarkupSafe>=2.0 in /usr/local/lib/python3.10/dist-packages (from jinja2->torch>=1.6.0->accelerate) (2.1.2)\n",
            "Requirement already satisfied: mpmath>=0.19 in /usr/local/lib/python3.10/dist-packages (from sympy->torch>=1.6.0->accelerate) (1.3.0)\n",
            "Installing collected packages: tokenizers, SentencePiece, safetensors, bitsandbytes, einops, huggingface-hub, transformers, accelerate\n",
            "Successfully installed SentencePiece-0.1.99 accelerate-0.20.3 bitsandbytes-0.39.0 einops-0.6.1 huggingface-hub-0.15.1 safetensors-0.3.1 tokenizers-0.13.3 transformers-4.30.1\n"
          ]
        }
      ],
      "source": [
        "pip install accelerate transformers SentencePiece  bitsandbytes einops"
      ]
    },
    {
      "cell_type": "code",
      "execution_count": 4,
      "metadata": {
        "colab": {
          "base_uri": "https://localhost:8080/",
          "height": 762
        },
        "id": "dCsrkA_nkUyI",
        "outputId": "59b162e3-1985-47fb-cad9-891de8adb2a4"
      },
      "outputs": [
        {
          "output_type": "error",
          "ename": "OSError",
          "evalue": "ignored",
          "traceback": [
            "\u001b[0;31m---------------------------------------------------------------------------\u001b[0m",
            "\u001b[0;31mHTTPError\u001b[0m                                 Traceback (most recent call last)",
            "\u001b[0;32m/usr/local/lib/python3.10/dist-packages/huggingface_hub/utils/_errors.py\u001b[0m in \u001b[0;36mhf_raise_for_status\u001b[0;34m(response, endpoint_name)\u001b[0m\n\u001b[1;32m    258\u001b[0m     \u001b[0;32mtry\u001b[0m\u001b[0;34m:\u001b[0m\u001b[0;34m\u001b[0m\u001b[0;34m\u001b[0m\u001b[0m\n\u001b[0;32m--> 259\u001b[0;31m         \u001b[0mresponse\u001b[0m\u001b[0;34m.\u001b[0m\u001b[0mraise_for_status\u001b[0m\u001b[0;34m(\u001b[0m\u001b[0;34m)\u001b[0m\u001b[0;34m\u001b[0m\u001b[0;34m\u001b[0m\u001b[0m\n\u001b[0m\u001b[1;32m    260\u001b[0m     \u001b[0;32mexcept\u001b[0m \u001b[0mHTTPError\u001b[0m \u001b[0;32mas\u001b[0m \u001b[0me\u001b[0m\u001b[0;34m:\u001b[0m\u001b[0;34m\u001b[0m\u001b[0;34m\u001b[0m\u001b[0m\n",
            "\u001b[0;32m/usr/local/lib/python3.10/dist-packages/requests/models.py\u001b[0m in \u001b[0;36mraise_for_status\u001b[0;34m(self)\u001b[0m\n\u001b[1;32m    959\u001b[0m         \u001b[0;32mif\u001b[0m \u001b[0mhttp_error_msg\u001b[0m\u001b[0;34m:\u001b[0m\u001b[0;34m\u001b[0m\u001b[0;34m\u001b[0m\u001b[0m\n\u001b[0;32m--> 960\u001b[0;31m             \u001b[0;32mraise\u001b[0m \u001b[0mHTTPError\u001b[0m\u001b[0;34m(\u001b[0m\u001b[0mhttp_error_msg\u001b[0m\u001b[0;34m,\u001b[0m \u001b[0mresponse\u001b[0m\u001b[0;34m=\u001b[0m\u001b[0mself\u001b[0m\u001b[0;34m)\u001b[0m\u001b[0;34m\u001b[0m\u001b[0;34m\u001b[0m\u001b[0m\n\u001b[0m\u001b[1;32m    961\u001b[0m \u001b[0;34m\u001b[0m\u001b[0m\n",
            "\u001b[0;31mHTTPError\u001b[0m: 404 Client Error: Not Found for url: https://huggingface.co/myeolinmalchi/lima-qlora-7b/resolve/main/config.json",
            "\nThe above exception was the direct cause of the following exception:\n",
            "\u001b[0;31mEntryNotFoundError\u001b[0m                        Traceback (most recent call last)",
            "\u001b[0;32m/usr/local/lib/python3.10/dist-packages/transformers/utils/hub.py\u001b[0m in \u001b[0;36mcached_file\u001b[0;34m(path_or_repo_id, filename, cache_dir, force_download, resume_download, proxies, use_auth_token, revision, local_files_only, subfolder, repo_type, user_agent, _raise_exceptions_for_missing_entries, _raise_exceptions_for_connection_errors, _commit_hash)\u001b[0m\n\u001b[1;32m    416\u001b[0m         \u001b[0;31m# Load from URL or cache if already cached\u001b[0m\u001b[0;34m\u001b[0m\u001b[0;34m\u001b[0m\u001b[0m\n\u001b[0;32m--> 417\u001b[0;31m         resolved_file = hf_hub_download(\n\u001b[0m\u001b[1;32m    418\u001b[0m             \u001b[0mpath_or_repo_id\u001b[0m\u001b[0;34m,\u001b[0m\u001b[0;34m\u001b[0m\u001b[0;34m\u001b[0m\u001b[0m\n",
            "\u001b[0;32m/usr/local/lib/python3.10/dist-packages/huggingface_hub/utils/_validators.py\u001b[0m in \u001b[0;36m_inner_fn\u001b[0;34m(*args, **kwargs)\u001b[0m\n\u001b[1;32m    117\u001b[0m \u001b[0;34m\u001b[0m\u001b[0m\n\u001b[0;32m--> 118\u001b[0;31m         \u001b[0;32mreturn\u001b[0m \u001b[0mfn\u001b[0m\u001b[0;34m(\u001b[0m\u001b[0;34m*\u001b[0m\u001b[0margs\u001b[0m\u001b[0;34m,\u001b[0m \u001b[0;34m**\u001b[0m\u001b[0mkwargs\u001b[0m\u001b[0;34m)\u001b[0m\u001b[0;34m\u001b[0m\u001b[0;34m\u001b[0m\u001b[0m\n\u001b[0m\u001b[1;32m    119\u001b[0m \u001b[0;34m\u001b[0m\u001b[0m\n",
            "\u001b[0;32m/usr/local/lib/python3.10/dist-packages/huggingface_hub/file_download.py\u001b[0m in \u001b[0;36mhf_hub_download\u001b[0;34m(repo_id, filename, subfolder, repo_type, revision, library_name, library_version, cache_dir, local_dir, local_dir_use_symlinks, user_agent, force_download, force_filename, proxies, etag_timeout, resume_download, token, local_files_only, legacy_cache_layout)\u001b[0m\n\u001b[1;32m   1194\u001b[0m             \u001b[0;32mtry\u001b[0m\u001b[0;34m:\u001b[0m\u001b[0;34m\u001b[0m\u001b[0;34m\u001b[0m\u001b[0m\n\u001b[0;32m-> 1195\u001b[0;31m                 metadata = get_hf_file_metadata(\n\u001b[0m\u001b[1;32m   1196\u001b[0m                     \u001b[0murl\u001b[0m\u001b[0;34m=\u001b[0m\u001b[0murl\u001b[0m\u001b[0;34m,\u001b[0m\u001b[0;34m\u001b[0m\u001b[0;34m\u001b[0m\u001b[0m\n",
            "\u001b[0;32m/usr/local/lib/python3.10/dist-packages/huggingface_hub/utils/_validators.py\u001b[0m in \u001b[0;36m_inner_fn\u001b[0;34m(*args, **kwargs)\u001b[0m\n\u001b[1;32m    117\u001b[0m \u001b[0;34m\u001b[0m\u001b[0m\n\u001b[0;32m--> 118\u001b[0;31m         \u001b[0;32mreturn\u001b[0m \u001b[0mfn\u001b[0m\u001b[0;34m(\u001b[0m\u001b[0;34m*\u001b[0m\u001b[0margs\u001b[0m\u001b[0;34m,\u001b[0m \u001b[0;34m**\u001b[0m\u001b[0mkwargs\u001b[0m\u001b[0;34m)\u001b[0m\u001b[0;34m\u001b[0m\u001b[0;34m\u001b[0m\u001b[0m\n\u001b[0m\u001b[1;32m    119\u001b[0m \u001b[0;34m\u001b[0m\u001b[0m\n",
            "\u001b[0;32m/usr/local/lib/python3.10/dist-packages/huggingface_hub/file_download.py\u001b[0m in \u001b[0;36mget_hf_file_metadata\u001b[0;34m(url, token, proxies, timeout)\u001b[0m\n\u001b[1;32m   1540\u001b[0m     )\n\u001b[0;32m-> 1541\u001b[0;31m     \u001b[0mhf_raise_for_status\u001b[0m\u001b[0;34m(\u001b[0m\u001b[0mr\u001b[0m\u001b[0;34m)\u001b[0m\u001b[0;34m\u001b[0m\u001b[0;34m\u001b[0m\u001b[0m\n\u001b[0m\u001b[1;32m   1542\u001b[0m \u001b[0;34m\u001b[0m\u001b[0m\n",
            "\u001b[0;32m/usr/local/lib/python3.10/dist-packages/huggingface_hub/utils/_errors.py\u001b[0m in \u001b[0;36mhf_raise_for_status\u001b[0;34m(response, endpoint_name)\u001b[0m\n\u001b[1;32m    268\u001b[0m             \u001b[0mmessage\u001b[0m \u001b[0;34m=\u001b[0m \u001b[0;34mf\"{response.status_code} Client Error.\"\u001b[0m \u001b[0;34m+\u001b[0m \u001b[0;34m\"\\n\\n\"\u001b[0m \u001b[0;34m+\u001b[0m \u001b[0;34mf\"Entry Not Found for url: {response.url}.\"\u001b[0m\u001b[0;34m\u001b[0m\u001b[0;34m\u001b[0m\u001b[0m\n\u001b[0;32m--> 269\u001b[0;31m             \u001b[0;32mraise\u001b[0m \u001b[0mEntryNotFoundError\u001b[0m\u001b[0;34m(\u001b[0m\u001b[0mmessage\u001b[0m\u001b[0;34m,\u001b[0m \u001b[0mresponse\u001b[0m\u001b[0;34m)\u001b[0m \u001b[0;32mfrom\u001b[0m \u001b[0me\u001b[0m\u001b[0;34m\u001b[0m\u001b[0;34m\u001b[0m\u001b[0m\n\u001b[0m\u001b[1;32m    270\u001b[0m \u001b[0;34m\u001b[0m\u001b[0m\n",
            "\u001b[0;31mEntryNotFoundError\u001b[0m: 404 Client Error. (Request ID: Root=1-64873a23-09f6ded86a8f3a524530c042)\n\nEntry Not Found for url: https://huggingface.co/myeolinmalchi/lima-qlora-7b/resolve/main/config.json.",
            "\nDuring handling of the above exception, another exception occurred:\n",
            "\u001b[0;31mOSError\u001b[0m                                   Traceback (most recent call last)",
            "\u001b[0;32m<ipython-input-4-d70696a5c057>\u001b[0m in \u001b[0;36m<cell line: 4>\u001b[0;34m()\u001b[0m\n\u001b[1;32m      2\u001b[0m \u001b[0;32mimport\u001b[0m \u001b[0mtransformers\u001b[0m\u001b[0;34m\u001b[0m\u001b[0;34m\u001b[0m\u001b[0m\n\u001b[1;32m      3\u001b[0m \u001b[0;34m\u001b[0m\u001b[0m\n\u001b[0;32m----> 4\u001b[0;31m config = transformers.AutoConfig.from_pretrained(\n\u001b[0m\u001b[1;32m      5\u001b[0m   \u001b[0;34m'myeolinmalchi/lima-qlora-7b'\u001b[0m\u001b[0;34m,\u001b[0m\u001b[0;34m\u001b[0m\u001b[0;34m\u001b[0m\u001b[0m\n\u001b[1;32m      6\u001b[0m )\n",
            "\u001b[0;32m/usr/local/lib/python3.10/dist-packages/transformers/models/auto/configuration_auto.py\u001b[0m in \u001b[0;36mfrom_pretrained\u001b[0;34m(cls, pretrained_model_name_or_path, **kwargs)\u001b[0m\n\u001b[1;32m    942\u001b[0m         \u001b[0mkwargs\u001b[0m\u001b[0;34m[\u001b[0m\u001b[0;34m\"name_or_path\"\u001b[0m\u001b[0;34m]\u001b[0m \u001b[0;34m=\u001b[0m \u001b[0mpretrained_model_name_or_path\u001b[0m\u001b[0;34m\u001b[0m\u001b[0;34m\u001b[0m\u001b[0m\n\u001b[1;32m    943\u001b[0m         \u001b[0mtrust_remote_code\u001b[0m \u001b[0;34m=\u001b[0m \u001b[0mkwargs\u001b[0m\u001b[0;34m.\u001b[0m\u001b[0mpop\u001b[0m\u001b[0;34m(\u001b[0m\u001b[0;34m\"trust_remote_code\"\u001b[0m\u001b[0;34m,\u001b[0m \u001b[0;32mNone\u001b[0m\u001b[0;34m)\u001b[0m\u001b[0;34m\u001b[0m\u001b[0;34m\u001b[0m\u001b[0m\n\u001b[0;32m--> 944\u001b[0;31m         \u001b[0mconfig_dict\u001b[0m\u001b[0;34m,\u001b[0m \u001b[0munused_kwargs\u001b[0m \u001b[0;34m=\u001b[0m \u001b[0mPretrainedConfig\u001b[0m\u001b[0;34m.\u001b[0m\u001b[0mget_config_dict\u001b[0m\u001b[0;34m(\u001b[0m\u001b[0mpretrained_model_name_or_path\u001b[0m\u001b[0;34m,\u001b[0m \u001b[0;34m**\u001b[0m\u001b[0mkwargs\u001b[0m\u001b[0;34m)\u001b[0m\u001b[0;34m\u001b[0m\u001b[0;34m\u001b[0m\u001b[0m\n\u001b[0m\u001b[1;32m    945\u001b[0m         \u001b[0mhas_remote_code\u001b[0m \u001b[0;34m=\u001b[0m \u001b[0;34m\"auto_map\"\u001b[0m \u001b[0;32min\u001b[0m \u001b[0mconfig_dict\u001b[0m \u001b[0;32mand\u001b[0m \u001b[0;34m\"AutoConfig\"\u001b[0m \u001b[0;32min\u001b[0m \u001b[0mconfig_dict\u001b[0m\u001b[0;34m[\u001b[0m\u001b[0;34m\"auto_map\"\u001b[0m\u001b[0;34m]\u001b[0m\u001b[0;34m\u001b[0m\u001b[0;34m\u001b[0m\u001b[0m\n\u001b[1;32m    946\u001b[0m         \u001b[0mhas_local_code\u001b[0m \u001b[0;34m=\u001b[0m \u001b[0;34m\"model_type\"\u001b[0m \u001b[0;32min\u001b[0m \u001b[0mconfig_dict\u001b[0m \u001b[0;32mand\u001b[0m \u001b[0mconfig_dict\u001b[0m\u001b[0;34m[\u001b[0m\u001b[0;34m\"model_type\"\u001b[0m\u001b[0;34m]\u001b[0m \u001b[0;32min\u001b[0m \u001b[0mCONFIG_MAPPING\u001b[0m\u001b[0;34m\u001b[0m\u001b[0;34m\u001b[0m\u001b[0m\n",
            "\u001b[0;32m/usr/local/lib/python3.10/dist-packages/transformers/configuration_utils.py\u001b[0m in \u001b[0;36mget_config_dict\u001b[0;34m(cls, pretrained_model_name_or_path, **kwargs)\u001b[0m\n\u001b[1;32m    572\u001b[0m         \u001b[0moriginal_kwargs\u001b[0m \u001b[0;34m=\u001b[0m \u001b[0mcopy\u001b[0m\u001b[0;34m.\u001b[0m\u001b[0mdeepcopy\u001b[0m\u001b[0;34m(\u001b[0m\u001b[0mkwargs\u001b[0m\u001b[0;34m)\u001b[0m\u001b[0;34m\u001b[0m\u001b[0;34m\u001b[0m\u001b[0m\n\u001b[1;32m    573\u001b[0m         \u001b[0;31m# Get config dict associated with the base config file\u001b[0m\u001b[0;34m\u001b[0m\u001b[0;34m\u001b[0m\u001b[0m\n\u001b[0;32m--> 574\u001b[0;31m         \u001b[0mconfig_dict\u001b[0m\u001b[0;34m,\u001b[0m \u001b[0mkwargs\u001b[0m \u001b[0;34m=\u001b[0m \u001b[0mcls\u001b[0m\u001b[0;34m.\u001b[0m\u001b[0m_get_config_dict\u001b[0m\u001b[0;34m(\u001b[0m\u001b[0mpretrained_model_name_or_path\u001b[0m\u001b[0;34m,\u001b[0m \u001b[0;34m**\u001b[0m\u001b[0mkwargs\u001b[0m\u001b[0;34m)\u001b[0m\u001b[0;34m\u001b[0m\u001b[0;34m\u001b[0m\u001b[0m\n\u001b[0m\u001b[1;32m    575\u001b[0m         \u001b[0;32mif\u001b[0m \u001b[0;34m\"_commit_hash\"\u001b[0m \u001b[0;32min\u001b[0m \u001b[0mconfig_dict\u001b[0m\u001b[0;34m:\u001b[0m\u001b[0;34m\u001b[0m\u001b[0;34m\u001b[0m\u001b[0m\n\u001b[1;32m    576\u001b[0m             \u001b[0moriginal_kwargs\u001b[0m\u001b[0;34m[\u001b[0m\u001b[0;34m\"_commit_hash\"\u001b[0m\u001b[0;34m]\u001b[0m \u001b[0;34m=\u001b[0m \u001b[0mconfig_dict\u001b[0m\u001b[0;34m[\u001b[0m\u001b[0;34m\"_commit_hash\"\u001b[0m\u001b[0;34m]\u001b[0m\u001b[0;34m\u001b[0m\u001b[0;34m\u001b[0m\u001b[0m\n",
            "\u001b[0;32m/usr/local/lib/python3.10/dist-packages/transformers/configuration_utils.py\u001b[0m in \u001b[0;36m_get_config_dict\u001b[0;34m(cls, pretrained_model_name_or_path, **kwargs)\u001b[0m\n\u001b[1;32m    627\u001b[0m             \u001b[0;32mtry\u001b[0m\u001b[0;34m:\u001b[0m\u001b[0;34m\u001b[0m\u001b[0;34m\u001b[0m\u001b[0m\n\u001b[1;32m    628\u001b[0m                 \u001b[0;31m# Load from local folder or from cache or download from model Hub and cache\u001b[0m\u001b[0;34m\u001b[0m\u001b[0;34m\u001b[0m\u001b[0m\n\u001b[0;32m--> 629\u001b[0;31m                 resolved_config_file = cached_file(\n\u001b[0m\u001b[1;32m    630\u001b[0m                     \u001b[0mpretrained_model_name_or_path\u001b[0m\u001b[0;34m,\u001b[0m\u001b[0;34m\u001b[0m\u001b[0;34m\u001b[0m\u001b[0m\n\u001b[1;32m    631\u001b[0m                     \u001b[0mconfiguration_file\u001b[0m\u001b[0;34m,\u001b[0m\u001b[0;34m\u001b[0m\u001b[0;34m\u001b[0m\u001b[0m\n",
            "\u001b[0;32m/usr/local/lib/python3.10/dist-packages/transformers/utils/hub.py\u001b[0m in \u001b[0;36mcached_file\u001b[0;34m(path_or_repo_id, filename, cache_dir, force_download, resume_download, proxies, use_auth_token, revision, local_files_only, subfolder, repo_type, user_agent, _raise_exceptions_for_missing_entries, _raise_exceptions_for_connection_errors, _commit_hash)\u001b[0m\n\u001b[1;32m    461\u001b[0m         \u001b[0;32mif\u001b[0m \u001b[0mrevision\u001b[0m \u001b[0;32mis\u001b[0m \u001b[0;32mNone\u001b[0m\u001b[0;34m:\u001b[0m\u001b[0;34m\u001b[0m\u001b[0;34m\u001b[0m\u001b[0m\n\u001b[1;32m    462\u001b[0m             \u001b[0mrevision\u001b[0m \u001b[0;34m=\u001b[0m \u001b[0;34m\"main\"\u001b[0m\u001b[0;34m\u001b[0m\u001b[0;34m\u001b[0m\u001b[0m\n\u001b[0;32m--> 463\u001b[0;31m         raise EnvironmentError(\n\u001b[0m\u001b[1;32m    464\u001b[0m             \u001b[0;34mf\"{path_or_repo_id} does not appear to have a file named {full_filename}. Checkout \"\u001b[0m\u001b[0;34m\u001b[0m\u001b[0;34m\u001b[0m\u001b[0m\n\u001b[1;32m    465\u001b[0m             \u001b[0;34mf\"'https://huggingface.co/{path_or_repo_id}/{revision}' for available files.\"\u001b[0m\u001b[0;34m\u001b[0m\u001b[0;34m\u001b[0m\u001b[0m\n",
            "\u001b[0;31mOSError\u001b[0m: myeolinmalchi/lima-qlora-7b does not appear to have a file named config.json. Checkout 'https://huggingface.co/myeolinmalchi/lima-qlora-7b/main' for available files."
          ]
        }
      ],
      "source": [
        "import torch\n",
        "import transformers\n",
        "\n",
        "config = transformers.AutoConfig.from_pretrained(\n",
        "  'mosaicml/mpt-7b-instruct',\n",
        "  trust_remote_code=True\n",
        ")\n",
        "config.update({\"max_seq_len\": 4096})\n",
        "\n",
        "model = transformers.AutoModelForCausalLM.from_pretrained(\n",
        "  'mosaicml/mpt-7b-instruct',\n",
        "  config=config,\n",
        "  trust_remote_code=True,\n",
        "  torch_dtype=torch.bfloat16,\n",
        ")\n",
        "model.to(\"cuda:0\")"
      ]
    },
    {
      "cell_type": "code",
      "source": [
        "!nvidia-smi\n"
      ],
      "metadata": {
        "colab": {
          "base_uri": "https://localhost:8080/"
        },
        "id": "J9TK29LvG80c",
        "outputId": "e261f690-4123-445e-dd6d-e47e1e812dbd"
      },
      "execution_count": 3,
      "outputs": [
        {
          "output_type": "stream",
          "name": "stdout",
          "text": [
            "Mon Jun 12 15:11:42 2023       \n",
            "+-----------------------------------------------------------------------------+\n",
            "| NVIDIA-SMI 525.85.12    Driver Version: 525.85.12    CUDA Version: 12.0     |\n",
            "|-------------------------------+----------------------+----------------------+\n",
            "| GPU  Name        Persistence-M| Bus-Id        Disp.A | Volatile Uncorr. ECC |\n",
            "| Fan  Temp  Perf  Pwr:Usage/Cap|         Memory-Usage | GPU-Util  Compute M. |\n",
            "|                               |                      |               MIG M. |\n",
            "|===============================+======================+======================|\n",
            "|   0  NVIDIA A100-SXM...  Off  | 00000000:00:04.0 Off |                    0 |\n",
            "| N/A   37C    P0    54W / 400W |  13955MiB / 40960MiB |      0%      Default |\n",
            "|                               |                      |             Disabled |\n",
            "+-------------------------------+----------------------+----------------------+\n",
            "                                                                               \n",
            "+-----------------------------------------------------------------------------+\n",
            "| Processes:                                                                  |\n",
            "|  GPU   GI   CI        PID   Type   Process name                  GPU Memory |\n",
            "|        ID   ID                                                   Usage      |\n",
            "|=============================================================================|\n",
            "+-----------------------------------------------------------------------------+\n"
          ]
        }
      ]
    },
    {
      "cell_type": "code",
      "source": [
        "tokenizer = transformers.AutoTokenizer.from_pretrained('mosaicml/mpt-7b-instruct')\n"
      ],
      "metadata": {
        "colab": {
          "base_uri": "https://localhost:8080/",
          "height": 197,
          "referenced_widgets": [
            "c880fdc4f8a946169c533fa681659733",
            "ee9993ec091548d18302083da4ded4ab",
            "b828505dfb6646629955237dc85dd800",
            "eaf725e3a30a4c6bb63764d629e5abbc",
            "16973c37763b429c9081757eb0519fda",
            "7fb569bf3aac40a19da72d4cbaaad25e",
            "7cabde964fb44623a94533d891882fc1",
            "ec02b02439504fe8ae2914180a647cef",
            "1ebfff7f803d47a089073ecd481c8709",
            "9594ee00ec0240f798a643b8b54b576e",
            "7f9d686368e74b4b8d28c7857539c954",
            "d9945051e12344cc83a7a0d7761e617d",
            "14596964f9584283a32f98838f355615",
            "0488f2487dcd47af90bcd1174629519a",
            "ae23b3f5f28d4e75aa0c80663f3f9970",
            "f5e051a83f8449da98652c8146cbdb8c",
            "4dbb11dabe7a497face773811bfbf772",
            "bf0dfa7e2f0445d4b236aa9d36e36672",
            "23848ea223c341279bc6f8caac123842",
            "a71e9cd2d4924c4ab0b4bb6fed228b40",
            "4cbf568fe96e4f878ea55023e5779b32",
            "2bbbba4d9fa646db8c30038c2304c375",
            "8dcda573e3f84f39a3831a714cd44a6f",
            "1f41338d7d2b40729f17d8fa19677add",
            "47ee52cf722f48e5b1d937a2b0e0eefc",
            "aa517e556aac4297aa9663cdf128be52",
            "6036d15131704a1585f38d67baca3a1f",
            "53663ca478444be197d90ee9710da4b2",
            "28270e0066d945aebadf5551b017613a",
            "fb24b1457009473e8a36c9c91d851278",
            "b7ab2255cf5e4f28a5ee260abe165b27",
            "26ad622e6e3446afa1c564adcabd0082",
            "d587dc81941442159a9d0034930e8431"
          ]
        },
        "id": "IhOKQvGIK1dQ",
        "outputId": "d35bf113-e0ac-4763-8cc7-9971f9794929"
      },
      "execution_count": 4,
      "outputs": [
        {
          "output_type": "display_data",
          "data": {
            "text/plain": [
              "Downloading (…)okenizer_config.json:   0%|          | 0.00/237 [00:00<?, ?B/s]"
            ],
            "application/vnd.jupyter.widget-view+json": {
              "version_major": 2,
              "version_minor": 0,
              "model_id": "c880fdc4f8a946169c533fa681659733"
            }
          },
          "metadata": {}
        },
        {
          "output_type": "display_data",
          "data": {
            "text/plain": [
              "Downloading (…)/main/tokenizer.json:   0%|          | 0.00/2.11M [00:00<?, ?B/s]"
            ],
            "application/vnd.jupyter.widget-view+json": {
              "version_major": 2,
              "version_minor": 0,
              "model_id": "d9945051e12344cc83a7a0d7761e617d"
            }
          },
          "metadata": {}
        },
        {
          "output_type": "display_data",
          "data": {
            "text/plain": [
              "Downloading (…)cial_tokens_map.json:   0%|          | 0.00/99.0 [00:00<?, ?B/s]"
            ],
            "application/vnd.jupyter.widget-view+json": {
              "version_major": 2,
              "version_minor": 0,
              "model_id": "8dcda573e3f84f39a3831a714cd44a6f"
            }
          },
          "metadata": {}
        }
      ]
    },
    {
      "cell_type": "code",
      "execution_count": 5,
      "metadata": {
        "id": "WRBpp_-7WhdU",
        "colab": {
          "base_uri": "https://localhost:8080/",
          "height": 641
        },
        "outputId": "89ba9b4e-7372-49ad-88db-0549195e9793"
      },
      "outputs": [
        {
          "output_type": "execute_result",
          "data": {
            "text/plain": [
              "                                        n.documentName  \\\n",
              "0    Lead Paint Law: Information for Owners and Sel...   \n",
              "1                       Baltimore City Rent Escrow Law   \n",
              "2                                    Cosigning a Lease   \n",
              "3    When is Refusal-to-Rent Illegal Housing Discri...   \n",
              "4         Anne Arundel County Rental and Housing Laws    \n",
              "..                                                 ...   \n",
              "452              Contesting a Will (Caveat Proceeding)   \n",
              "453  Time limit for filing a will with the Register...   \n",
              "454                                   Youth Health Law   \n",
              "455        Introduction to Juvenile Record Expungement   \n",
              "456              Juvenile Record Expungement Checklist   \n",
              "\n",
              "                                         n.pageContent  ID(n)  \n",
              "0    <p>Maryland and federal laws about lead paint ...    100  \n",
              "1    <p>The purpose of the rent escrow law is to pr...    101  \n",
              "2    <p>There are times when a tenant needs a cosig...    111  \n",
              "3    <p>People often wrongly assume that any discri...    112  \n",
              "4    \\r\\n  <h2>Topics on this page:</h2>\\r\\n  \\r\\n ...    749  \n",
              "..                                                 ...    ...  \n",
              "452  <p>Contesting a will is a formal way of asking...  23350  \n",
              "453  \\r\\n  \\r\\n  <p>After someone dies, Maryland la...  23351  \n",
              "454  <h2>Topics on this page:</h2>\\r\\n  \\r\\n  <ul>\\...  23352  \n",
              "455  <p>Maryland law permits a person with a juveni...  23957  \n",
              "456  <p>For a court to order a juvenile record expu...  23958  \n",
              "\n",
              "[457 rows x 3 columns]"
            ],
            "text/html": [
              "\n",
              "  <div id=\"df-6ffcd5dd-2903-4912-8c4b-2b8cc1b711b1\">\n",
              "    <div class=\"colab-df-container\">\n",
              "      <div>\n",
              "<style scoped>\n",
              "    .dataframe tbody tr th:only-of-type {\n",
              "        vertical-align: middle;\n",
              "    }\n",
              "\n",
              "    .dataframe tbody tr th {\n",
              "        vertical-align: top;\n",
              "    }\n",
              "\n",
              "    .dataframe thead th {\n",
              "        text-align: right;\n",
              "    }\n",
              "</style>\n",
              "<table border=\"1\" class=\"dataframe\">\n",
              "  <thead>\n",
              "    <tr style=\"text-align: right;\">\n",
              "      <th></th>\n",
              "      <th>n.documentName</th>\n",
              "      <th>n.pageContent</th>\n",
              "      <th>ID(n)</th>\n",
              "    </tr>\n",
              "  </thead>\n",
              "  <tbody>\n",
              "    <tr>\n",
              "      <th>0</th>\n",
              "      <td>Lead Paint Law: Information for Owners and Sel...</td>\n",
              "      <td>&lt;p&gt;Maryland and federal laws about lead paint ...</td>\n",
              "      <td>100</td>\n",
              "    </tr>\n",
              "    <tr>\n",
              "      <th>1</th>\n",
              "      <td>Baltimore City Rent Escrow Law</td>\n",
              "      <td>&lt;p&gt;The purpose of the rent escrow law is to pr...</td>\n",
              "      <td>101</td>\n",
              "    </tr>\n",
              "    <tr>\n",
              "      <th>2</th>\n",
              "      <td>Cosigning a Lease</td>\n",
              "      <td>&lt;p&gt;There are times when a tenant needs a cosig...</td>\n",
              "      <td>111</td>\n",
              "    </tr>\n",
              "    <tr>\n",
              "      <th>3</th>\n",
              "      <td>When is Refusal-to-Rent Illegal Housing Discri...</td>\n",
              "      <td>&lt;p&gt;People often wrongly assume that any discri...</td>\n",
              "      <td>112</td>\n",
              "    </tr>\n",
              "    <tr>\n",
              "      <th>4</th>\n",
              "      <td>Anne Arundel County Rental and Housing Laws</td>\n",
              "      <td>\\r\\n  &lt;h2&gt;Topics on this page:&lt;/h2&gt;\\r\\n  \\r\\n ...</td>\n",
              "      <td>749</td>\n",
              "    </tr>\n",
              "    <tr>\n",
              "      <th>...</th>\n",
              "      <td>...</td>\n",
              "      <td>...</td>\n",
              "      <td>...</td>\n",
              "    </tr>\n",
              "    <tr>\n",
              "      <th>452</th>\n",
              "      <td>Contesting a Will (Caveat Proceeding)</td>\n",
              "      <td>&lt;p&gt;Contesting a will is a formal way of asking...</td>\n",
              "      <td>23350</td>\n",
              "    </tr>\n",
              "    <tr>\n",
              "      <th>453</th>\n",
              "      <td>Time limit for filing a will with the Register...</td>\n",
              "      <td>\\r\\n  \\r\\n  &lt;p&gt;After someone dies, Maryland la...</td>\n",
              "      <td>23351</td>\n",
              "    </tr>\n",
              "    <tr>\n",
              "      <th>454</th>\n",
              "      <td>Youth Health Law</td>\n",
              "      <td>&lt;h2&gt;Topics on this page:&lt;/h2&gt;\\r\\n  \\r\\n  &lt;ul&gt;\\...</td>\n",
              "      <td>23352</td>\n",
              "    </tr>\n",
              "    <tr>\n",
              "      <th>455</th>\n",
              "      <td>Introduction to Juvenile Record Expungement</td>\n",
              "      <td>&lt;p&gt;Maryland law permits a person with a juveni...</td>\n",
              "      <td>23957</td>\n",
              "    </tr>\n",
              "    <tr>\n",
              "      <th>456</th>\n",
              "      <td>Juvenile Record Expungement Checklist</td>\n",
              "      <td>&lt;p&gt;For a court to order a juvenile record expu...</td>\n",
              "      <td>23958</td>\n",
              "    </tr>\n",
              "  </tbody>\n",
              "</table>\n",
              "<p>457 rows × 3 columns</p>\n",
              "</div>\n",
              "      <button class=\"colab-df-convert\" onclick=\"convertToInteractive('df-6ffcd5dd-2903-4912-8c4b-2b8cc1b711b1')\"\n",
              "              title=\"Convert this dataframe to an interactive table.\"\n",
              "              style=\"display:none;\">\n",
              "        \n",
              "  <svg xmlns=\"http://www.w3.org/2000/svg\" height=\"24px\"viewBox=\"0 0 24 24\"\n",
              "       width=\"24px\">\n",
              "    <path d=\"M0 0h24v24H0V0z\" fill=\"none\"/>\n",
              "    <path d=\"M18.56 5.44l.94 2.06.94-2.06 2.06-.94-2.06-.94-.94-2.06-.94 2.06-2.06.94zm-11 1L8.5 8.5l.94-2.06 2.06-.94-2.06-.94L8.5 2.5l-.94 2.06-2.06.94zm10 10l.94 2.06.94-2.06 2.06-.94-2.06-.94-.94-2.06-.94 2.06-2.06.94z\"/><path d=\"M17.41 7.96l-1.37-1.37c-.4-.4-.92-.59-1.43-.59-.52 0-1.04.2-1.43.59L10.3 9.45l-7.72 7.72c-.78.78-.78 2.05 0 2.83L4 21.41c.39.39.9.59 1.41.59.51 0 1.02-.2 1.41-.59l7.78-7.78 2.81-2.81c.8-.78.8-2.07 0-2.86zM5.41 20L4 18.59l7.72-7.72 1.47 1.35L5.41 20z\"/>\n",
              "  </svg>\n",
              "      </button>\n",
              "      \n",
              "  <style>\n",
              "    .colab-df-container {\n",
              "      display:flex;\n",
              "      flex-wrap:wrap;\n",
              "      gap: 12px;\n",
              "    }\n",
              "\n",
              "    .colab-df-convert {\n",
              "      background-color: #E8F0FE;\n",
              "      border: none;\n",
              "      border-radius: 50%;\n",
              "      cursor: pointer;\n",
              "      display: none;\n",
              "      fill: #1967D2;\n",
              "      height: 32px;\n",
              "      padding: 0 0 0 0;\n",
              "      width: 32px;\n",
              "    }\n",
              "\n",
              "    .colab-df-convert:hover {\n",
              "      background-color: #E2EBFA;\n",
              "      box-shadow: 0px 1px 2px rgba(60, 64, 67, 0.3), 0px 1px 3px 1px rgba(60, 64, 67, 0.15);\n",
              "      fill: #174EA6;\n",
              "    }\n",
              "\n",
              "    [theme=dark] .colab-df-convert {\n",
              "      background-color: #3B4455;\n",
              "      fill: #D2E3FC;\n",
              "    }\n",
              "\n",
              "    [theme=dark] .colab-df-convert:hover {\n",
              "      background-color: #434B5C;\n",
              "      box-shadow: 0px 1px 3px 1px rgba(0, 0, 0, 0.15);\n",
              "      filter: drop-shadow(0px 1px 2px rgba(0, 0, 0, 0.3));\n",
              "      fill: #FFFFFF;\n",
              "    }\n",
              "  </style>\n",
              "\n",
              "      <script>\n",
              "        const buttonEl =\n",
              "          document.querySelector('#df-6ffcd5dd-2903-4912-8c4b-2b8cc1b711b1 button.colab-df-convert');\n",
              "        buttonEl.style.display =\n",
              "          google.colab.kernel.accessAllowed ? 'block' : 'none';\n",
              "\n",
              "        async function convertToInteractive(key) {\n",
              "          const element = document.querySelector('#df-6ffcd5dd-2903-4912-8c4b-2b8cc1b711b1');\n",
              "          const dataTable =\n",
              "            await google.colab.kernel.invokeFunction('convertToInteractive',\n",
              "                                                     [key], {});\n",
              "          if (!dataTable) return;\n",
              "\n",
              "          const docLinkHtml = 'Like what you see? Visit the ' +\n",
              "            '<a target=\"_blank\" href=https://colab.research.google.com/notebooks/data_table.ipynb>data table notebook</a>'\n",
              "            + ' to learn more about interactive tables.';\n",
              "          element.innerHTML = '';\n",
              "          dataTable['output_type'] = 'display_data';\n",
              "          await google.colab.output.renderOutput(dataTable, element);\n",
              "          const docLink = document.createElement('div');\n",
              "          docLink.innerHTML = docLinkHtml;\n",
              "          element.appendChild(docLink);\n",
              "        }\n",
              "      </script>\n",
              "    </div>\n",
              "  </div>\n",
              "  "
            ]
          },
          "metadata": {},
          "execution_count": 5
        }
      ],
      "source": [
        "import pandas as pd\n",
        "\n",
        "df = pd.read_json('dummy.json')\n",
        "\n",
        "df"
      ]
    },
    {
      "cell_type": "code",
      "execution_count": 6,
      "metadata": {
        "id": "rCBJ3LdMXk4K"
      },
      "outputs": [],
      "source": [
        "from bs4 import BeautifulSoup\n",
        "import re\n",
        "import string\n",
        "\n",
        "#removing html code\n",
        "def remove_html(text):\n",
        "    soup = BeautifulSoup(text)\n",
        "    text = soup.get_text()\n",
        "    text = text.replace(\"\\n\", \" \")\n",
        "    text = text.replace(\"\\xa0\", \" \")\n",
        "    return text\n",
        "df[\"n.pageContent\"] = df[\"n.pageContent\"].apply(remove_html)\n"
      ]
    },
    {
      "cell_type": "code",
      "execution_count": 7,
      "metadata": {
        "id": "Og8qCzIXXpPl",
        "colab": {
          "base_uri": "https://localhost:8080/",
          "height": 227
        },
        "outputId": "8f44588c-76cf-46ad-cc67-8e415d52e3da"
      },
      "outputs": [
        {
          "output_type": "execute_result",
          "data": {
            "text/plain": [
              "\"Maryland and federal laws about lead paint are designed to reduce childhood lead poisoning. This article describes the duties of landlords and property owners of residential housing built before 1978. Information for renters and buyers can be found in another article.   Topics on this page:  Which homes are covered by Maryland’s lead paint law? Use of lead paint Owning and selling an Affected Property Landlord's duties Frequently asked questions for landlords    Which homes are covered by Maryland’s lead paint law? Only pre-1978 residential rental properties/units (“Affected Properties”) are regulated by Maryland’s Reduction of Lead Risk in Housing Act. Owner-occupied properties/units are not regulated. Affected Properties that are Maryland Department of the Environment (MDE) certified lead-free or limited lead-free are exempt from Maryland’s lead paint law. Affected Properties owned or operated by federal, State, or local government or by a public, quasi-public, or municipal corporation are also exempt, provided the Affected Properties are subject to standards at least as strict as the standards established by Maryland’s lead paint law.  Read the Law:  Md. Code, Environment §§ 6-801, 6-803 and 6-804   Use of lead paint State law prohibits any person from using lead-based paint on any interior surface, on the porch of any dwelling, on any exterior surface to which children may commonly be exposed, and on any household use article except where lead-based industrial paint is applied to a household appliance. A violation of this law is a misdemeanor and is punishable by a fine of up to $1,000 or imprisonment of up to 30 days or both. Each day that a violation continues is a separate offense. Read the Law:  Md. Code, Environment § 6-301 and § 6-302; Md. Code, Real Property § 8-211.1   Owning and selling an Affected Property When selling a home built before 1978, state and federal laws require certain disclosures. Under Maryland law, the owner is required to disclose whether any lead paint related remediation needs to be done, and whether the owner will perform the remediation before the sale. Read the Law:  Md. Code, Environment § 6-824 Federal law also requires sellers to make certain disclosures. These federal disclosures apply to lead paint as well as other lead hazards such as lead pipes.  Sellers must disclose the presence of known lead-based hazards in the housing (to see what the disclosure looks like, visit the EPA's website); Sellers must provide purchasers and lessees with any available records or reports pertaining to the presence of lead-based hazards; Sellers and landlords must provide purchasers and lessees with the EPA pamphlet, “Protect Your Family From Lead in Your Home”; Sellers must provide purchasers with a 10-day opportunity to conduct a risk assessment or inspection for the presence of lead-based hazards before the purchaser is obligated under any purchase contract; Sales contracts must include certain disclosure and acknowledgment language; and Agents must ensure compliance with the requirements.  Read the Law:  United States Code, Title 42, § 4852d; Code of Federal Regulations, Title 24, Part 35 For more information about required disclosures, see the EPA's website. Property renovation If your home was built before 1978, contractors performing certain repairs and renovations are required to assess the project for the presence of lead paint. If the contractor will be replacing windows, weatherizing the home, or demolition of painted surface areas, they must conduct the assessment. When selecting a contractor, check to see if they:  are certified by EPA or the state; use workers trained by EPA-approved training providers; and follow lead-safe work practices.  Before contractors, property managers, or other persons start renovation and repair activities, they must distribute EPA’s lead hazard information pamphlet, “The Lead-Safe Certified Guide to Renovate Right” to occupants and owners of homes. This rule does not apply to owners who perform work in their own residence. Read the Law: United States Code Title 15, Lead Exposure Reduction; Code of Federal Regulations, Title 40, Part 745 For more information about repairs and renovations, see the EPA's website.   Landlord's duties Property Registration Owners are required to register their Affected Properties with MDE and to renew the registration each year. Affected Properties built before 1978 must be registered.  Owners have 30 days following acquisition of an Affected Property to satisfy Maryland’s registration requirements. There is a $30 registration fee for each Affected Property. Affected Properties that have been MDE-certified lead-free or limited lead-free are exempt from Maryland’s registration requirements. However, owners must pay MDE a one-time lead-processing fee of $10 per property/unit. MDE tracks the registration status of all Affected Properties in Maryland through MDE’s lead rental registry database. Registration forms are open for public inspection, but MDE may not disclose to the public an inventory or list of Affected Properties owned by an individual owner. However, MDE must disclose, upon request, whether an owner has registered a particular Affected Property with MDE and whether an owner has met the 50 and 100 percent compliance requirements described below. Properties that have passed a Lead Free inspection are exempt from the registration requirement. Information on how to register and renew the registration can be found on the Maryland Department of the Environment website. Read the Law: Md. Code, Environment §§ 6-811, 6-812, 6-843 and 6-845. Risk reduction lead inspection Each time the tenant changes, the Affected Property must pass a risk reduction lead inspection. To pass the inspection, the Affected Property must pass a lead-contaminated dust test, and ensure no paint is chipping, peeling, or flaking. The inspection should be completed by a MDE-accredited lead paint inspection contractor. A typical inspection will include the following elements:  lead-contaminated dust test Conduct a visual view of all interior and exterior painted surfaces; Remove and repaint all chipping, peeling or flaking paint on exterior and interior painted surfaces; Repair any structural defect that is causing the paint to chip, peel or flake; Strip and repaint, replace or encapsulate all interior windowsills with vinyl, metal, or any other material approved by MDE; Ensure that caps of vinyl, aluminum, or any other material approved by MDE are installed in all window wells to make the window wells smooth and cleanable; Except for a treated or replacement window that is free of lead-based paint on its friction surfaces, fix the top sash of all windows to eliminate any friction caused by movement of the top sash; Re-hang all doors to prevent any lead-painted surfaces from rubbing with other surfaces; Ensure that all kitchen and bathroom floors are overlaid with a smooth, water-resistant covering; and HEPA-vacuum and wash with high phosphate detergent any area of the rental property/unit where repairs were made.  A lead-contaminated dust test consists of wipe samples which are sent to a laboratory for analysis. A report is then created that lists any area of lead that exceeds the lead content level established by MDE by regulation.  After the inspection, the inspector will submit a copy of the full risk reduction certificate, along with all inspection results, laboratory analysis, and supporting documents to MDE and the owner. MDE tracks the certificate status of all Affected Properties in Maryland through a database that is available on their website. Read the Law: Md. Code, Environment §§ 6-801, 6-815, 6-817, 6-816 and 6-818; Code of Maryland Regulations 26.16.02.02. Educational Documents Owners must distribute MDE's “Notice of Tenants’ Rights” and the EPA's pamphlet, “Protect Your Family From Lead In Your Home” to all new tenants of Affected Properties at the beginning of the tenancy and to existing tenants every two years. Read the Law: Md. Code, Environment §§ 6-820 and 6-823.   Frequently asked questions for landlords What must an owner do upon receiving a written Notice of Defect or a written Notice of Elevated Blood Lead Level (“EBL”)?  If the owner receives a Notice of Defect or a written Notice of Elevated Blood Lead Level, they must act within 30 days if:  there is a structural defects and/or chipping, peeling or flaking paint, or\\r         a child under six years of age or a pregnant woman has an EBL as described in Md. Code, Environment § 6-801 (generally from a local health department)  The owner is required to:  Provide for the permanent relocation of all tenants to a property that is MDE-certified lead-free or is in compliance with the full risk reduction standard, or\\r         Temporarily relocate all tenants while work is being performed at the Affected Property and obtain a passing modified risk reduction inspection certificate prior to the tenants moving back in.  MDE receives copies of Notices of EBL and monitors the EBL notices. Regarding Notices of Defect, if an owner fails to comply with this notice, a tenant can make a complaint with MDE by calling 410-537-3825.  A tenant will need to provide MDE with a copy of the Notice of Defect and written verification of the owner’s receipt of the Notice of Defect.  Read the Law: Md. Code, Environment §§ 6-819 and 6-821.  Are there penalties for failing to comply with the Maryland Reduction in Lead Risk in Housing Act? Owners that fail to register or renew an Affected Property with MDE are subject to a penalty of up to $20 per day until the Affected Property is registered or renewed. Owners that fail to obtain an applicable passing lead paint risk reduction inspection certificate or distribute the lead-educational materials are subject to a penalty. The penalty is up to $500 per day, per Affected Property, for each day of violation until a risk reduction inspection certificate is filed with MDE, but not exceeding $100,000 total penalty.  Owners may also be subject to civil penalties not exceeding $25,000 for lead violations. Each day a violation occurs is a separate violation.  Read the Law: Md. Code, Environment §§ 6-843, 6-849, 6-850 and 7-266.  What are some of the retaliatory actions owners of Affected Properties are prohibited from doing?  Owners of Affected Properties may not illegally evict or take any other retaliatory action against a tenant “primarily” as a result of the tenant providing information to the landlord. Examples of protected actions include complaining about hazardous conditions or chipping, peeling, or flaking paint in an Affected Property.   Prohibited retaliatory actions include:  arbitrary refusal to renew a lease; termination of tenancy; arbitrary rent increase, or decrease in service to which a tenant is entitled; or any kind of constructive eviction.  A tenant who was subjected to a retaliatory eviction or other prohibited retaliatory action by a landlord is permitted relief and is entitled to reasonable attorney’s fees and costs, as allowed under Maryland law. This section does not affect the landlord’s or the tenant’s rights arising from a breach of a lease. Read the Law: Md. Code, Real Property § 8-208.2  Is an Affected Property that has a lead-free inspection certificate or limited lead-free inspection certificate exempt from Maryland’s lead paint law?  An Affected Property that has been lead-paint tested received a “lead-free inspection certificate” or “limited lead-free inspection certificate” is exempt from the Reduction of Lead Risk in Housing Act. The property no longer has to be registered.     A “lead-free” inspection certificate means the property was tested for the presence of lead-based paint and all of the interior and exterior surfaces are lead-free.  A “limited lead-free” inspection certificate means only the interior surfaces are lead-free but the exterior painted surfaces are not lead-free. All exterior paint must be intact. A limited lead-free inspection certificate has a two-year expiration date. Every two years, owners must recertify that the Affected Property is free of chipping, peeling or flaking exterior paint. If the limited lead-free inspection certificate expires and is not timely recertified by the owner, the owner must obtain a new limited lead-free inspection certificate for the Affected Property and pay MDE another $10 lead processing fee per property/unit. Read the Law: Md. Code, Environment § 6-804 and § 6-843; Code of Maryland Regulation 26.16.02.   Who must be trained and accredited by MDE to perform lead abatement services? Maryland law requires that workers, supervisors, project designers, inspectors, or risk assessors involved in lead abatement be trained in safe work abatement practices and procedures. Contracting businesses, self-employed individuals, supervisors, inspectors, and risk assessors must be accredited by MDE. To verify whether a contractor or an inspector is accredited by MDE, visit MDE's website. Read the Law: Md. Code, Environment §§ 6-818, 6-1002; Code of Maryland Regulations 26.16.01.04.  Can owners perform risk reduction work on their Affected Properties? Owners may perform risk reduction work on their Affected Properties, but only after completing a two-day training session with an MDE-accredited training provider and after becoming an MDE-accredited lead paint maintenance and repainting supervisor.  For more information about MDE-accreditation, call MDE’s Lead Compliance and Accreditation Division at 410-537-3825. Read the Law: Md. Code, Environment §§ 6-818 and 6-1002; Code of Maryland Regulations 26.16.01.10.  Are owners required to remove persons at risk from their Affected Properties to perform maintenance or repairs at their Affected Properties? Owners must make reasonable efforts to remove pregnant women and children under six years of age from their Affected Properties while work is being performed that will disturb the paint on interior surfaces of the Affected Properties. Tenants must allow reasonable access to the Affected Properties so that work can be performed  If it is necessary that tenants vacate Affected Properties for 24 hours or more to allow work to be performed, owners must pay reasonable expenses that the tenants directly incur due to the relocation to temporary lead-safe housing.  Read the Law: Md. Code, Environment § 6-821  Can owners perform minor repairs and maintenance on their Affected Properties? Except for window removal or replacement, owners of Affected Properties may perform minor repairs and maintenance on their Affected Properties as long as the disturbance of a lead-containing substance, including plumbing and electrical work, involves three square feet or less of surface area in a room. Repairs or maintenance work that disturbs a lead-containing substance involving more than three square feet of surface area in a room must be performed by or under the supervision of personnel accredited by MDE.  Read the Law: Md. Code, Environment §§ 6-818 and 6-1002(b); Code of Maryland Regulations 26.16.01.03.  What is the difference between a lead-based paint inspection and a lead-based paint risk assessment? A lead-based paint inspection determines the presence of lead-based paint in an Affected Property. The inspection generally entails a surface-by-surface examination to determine whether there is lead-based paint and where it is located. Lead-based paint inspections must be performed by inspectors or risk assessors accredited by MDE.  A lead-based paint risk assessment is an on-site investigation of an Affected Property to determine the presence, type, severity, and location of lead-based paint hazards, including lead hazards in paint, dust, and soil, and provides recommendations to control the lead hazards  Risk assessments must be performed by lead paint risk assessors accredited by MDE.  Read the Regulation: Code of Maryland Regulations 26.16.01.02   Can owners obtain winter waivers to postpone exterior work on their Affected Properties?  Owners may apply to the local code officials of housing or minimum livability codes for a “winter waiver” to temporarily delay exterior work required to satisfy the risk reduction standard.  The local code official is based on the county or municipality where the Affected Property is located.  Some local jurisdictions have implemented annual exterior waiver time periods, but if no time period is specified, during November 1st through April 1st. However, the postponed work must be completed within 30 days after the end of the waiver period.  For questions concerning winter waivers, contact your local code official or call MDE’s Lead Poisoning Prevention Program at 410-537-3825. Read the Law: Md. Code, Environment §§ 6-815(d) and 6-819(j) \""
            ],
            "application/vnd.google.colaboratory.intrinsic+json": {
              "type": "string"
            }
          },
          "metadata": {},
          "execution_count": 7
        }
      ],
      "source": [
        "content = df[\"n.pageContent\"][0]\n",
        "content"
      ]
    },
    {
      "cell_type": "code",
      "execution_count": 22,
      "metadata": {
        "id": "mrLfuKapiLvv"
      },
      "outputs": [],
      "source": [
        "import torch\n",
        "torch.cuda.empty_cache()"
      ]
    },
    {
      "cell_type": "code",
      "execution_count": 9,
      "metadata": {
        "id": "xG9sKwtI6O_C",
        "colab": {
          "base_uri": "https://localhost:8080/"
        },
        "outputId": "5890bed6-5bd9-4c6e-d81a-e68beb13c8b5"
      },
      "outputs": [
        {
          "output_type": "execute_result",
          "data": {
            "text/plain": [
              "784"
            ]
          },
          "metadata": {},
          "execution_count": 9
        }
      ],
      "source": [
        "big_content = content[:5000]\n",
        "check_big_content_len = big_content.split(\" \")\n",
        "len(check_big_content_len)"
      ]
    },
    {
      "cell_type": "code",
      "source": [
        "big_content"
      ],
      "metadata": {
        "colab": {
          "base_uri": "https://localhost:8080/",
          "height": 227
        },
        "id": "nnH58AqCPR89",
        "outputId": "64697b16-78b5-44f0-b623-03af116fc159"
      },
      "execution_count": 10,
      "outputs": [
        {
          "output_type": "execute_result",
          "data": {
            "text/plain": [
              "\"Maryland and federal laws about lead paint are designed to reduce childhood lead poisoning. This article describes the duties of landlords and property owners of residential housing built before 1978. Information for renters and buyers can be found in another article.   Topics on this page:  Which homes are covered by Maryland’s lead paint law? Use of lead paint Owning and selling an Affected Property Landlord's duties Frequently asked questions for landlords    Which homes are covered by Maryland’s lead paint law? Only pre-1978 residential rental properties/units (“Affected Properties”) are regulated by Maryland’s Reduction of Lead Risk in Housing Act. Owner-occupied properties/units are not regulated. Affected Properties that are Maryland Department of the Environment (MDE) certified lead-free or limited lead-free are exempt from Maryland’s lead paint law. Affected Properties owned or operated by federal, State, or local government or by a public, quasi-public, or municipal corporation are also exempt, provided the Affected Properties are subject to standards at least as strict as the standards established by Maryland’s lead paint law.  Read the Law:  Md. Code, Environment §§ 6-801, 6-803 and 6-804   Use of lead paint State law prohibits any person from using lead-based paint on any interior surface, on the porch of any dwelling, on any exterior surface to which children may commonly be exposed, and on any household use article except where lead-based industrial paint is applied to a household appliance. A violation of this law is a misdemeanor and is punishable by a fine of up to $1,000 or imprisonment of up to 30 days or both. Each day that a violation continues is a separate offense. Read the Law:  Md. Code, Environment § 6-301 and § 6-302; Md. Code, Real Property § 8-211.1   Owning and selling an Affected Property When selling a home built before 1978, state and federal laws require certain disclosures. Under Maryland law, the owner is required to disclose whether any lead paint related remediation needs to be done, and whether the owner will perform the remediation before the sale. Read the Law:  Md. Code, Environment § 6-824 Federal law also requires sellers to make certain disclosures. These federal disclosures apply to lead paint as well as other lead hazards such as lead pipes.  Sellers must disclose the presence of known lead-based hazards in the housing (to see what the disclosure looks like, visit the EPA's website); Sellers must provide purchasers and lessees with any available records or reports pertaining to the presence of lead-based hazards; Sellers and landlords must provide purchasers and lessees with the EPA pamphlet, “Protect Your Family From Lead in Your Home”; Sellers must provide purchasers with a 10-day opportunity to conduct a risk assessment or inspection for the presence of lead-based hazards before the purchaser is obligated under any purchase contract; Sales contracts must include certain disclosure and acknowledgment language; and Agents must ensure compliance with the requirements.  Read the Law:  United States Code, Title 42, § 4852d; Code of Federal Regulations, Title 24, Part 35 For more information about required disclosures, see the EPA's website. Property renovation If your home was built before 1978, contractors performing certain repairs and renovations are required to assess the project for the presence of lead paint. If the contractor will be replacing windows, weatherizing the home, or demolition of painted surface areas, they must conduct the assessment. When selecting a contractor, check to see if they:  are certified by EPA or the state; use workers trained by EPA-approved training providers; and follow lead-safe work practices.  Before contractors, property managers, or other persons start renovation and repair activities, they must distribute EPA’s lead hazard information pamphlet, “The Lead-Safe Certified Guide to Renovate Right” to occupants and owners of homes. This rule does not apply to owners who perform work in their own residence. Read the Law: United States Code Title 15, Lead Exposure Reduction; Code of Federal Regulations, Title 40, Part 745 For more information about repairs and renovations, see the EPA's website.   Landlord's duties Property Registration Owners are required to register their Affected Properties with MDE and to renew the registration each year. Affected Properties built before 1978 must be registered.  Owners have 30 days following acquisition of an Affected Property to satisfy Maryland’s registration requirements. There is a $30 registration fee for each Affected Property. Affected Properties that have been MDE-certified lead-free or limited lead-free are exempt from Maryland’s registration requirements. However, owners must pay MDE a one-time lead-processing fee of $10 per property/unit. MDE tracks the registration status of all Affected Properties in Maryland through MDE’s lead rental registry database. Registration forms are \""
            ],
            "application/vnd.google.colaboratory.intrinsic+json": {
              "type": "string"
            }
          },
          "metadata": {},
          "execution_count": 10
        }
      ]
    },
    {
      "cell_type": "code",
      "execution_count": 21,
      "metadata": {
        "id": "bL-Do8ODX3ge",
        "colab": {
          "base_uri": "https://localhost:8080/",
          "height": 763
        },
        "outputId": "e9ff51af-befb-4692-c2c1-a02c147e5132"
      },
      "outputs": [
        {
          "output_type": "display_data",
          "data": {
            "text/plain": [
              "\u001b[31m╭─\u001b[0m\u001b[31m──────────────────────────────\u001b[0m\u001b[31m \u001b[0m\u001b[1;31mTraceback \u001b[0m\u001b[1;2;31m(most recent call last)\u001b[0m\u001b[31m \u001b[0m\u001b[31m───────────────────────────────\u001b[0m\u001b[31m─╮\u001b[0m\n",
              "\u001b[31m│\u001b[0m in \u001b[92m<cell line: 6>\u001b[0m:\u001b[94m6\u001b[0m                                                                              \u001b[31m│\u001b[0m\n",
              "\u001b[31m│\u001b[0m                                                                                                  \u001b[31m│\u001b[0m\n",
              "\u001b[31m│\u001b[0m \u001b[2;33m/usr/local/lib/python3.10/dist-packages/torch/utils/\u001b[0m\u001b[1;33m_contextlib.py\u001b[0m:\u001b[94m115\u001b[0m in \u001b[92mdecorate_context\u001b[0m       \u001b[31m│\u001b[0m\n",
              "\u001b[31m│\u001b[0m                                                                                                  \u001b[31m│\u001b[0m\n",
              "\u001b[31m│\u001b[0m   \u001b[2m112 \u001b[0m\u001b[2m│   \u001b[0m\u001b[1;95m@functools\u001b[0m.wraps(func)                                                                 \u001b[31m│\u001b[0m\n",
              "\u001b[31m│\u001b[0m   \u001b[2m113 \u001b[0m\u001b[2m│   \u001b[0m\u001b[94mdef\u001b[0m \u001b[92mdecorate_context\u001b[0m(*args, **kwargs):                                                 \u001b[31m│\u001b[0m\n",
              "\u001b[31m│\u001b[0m   \u001b[2m114 \u001b[0m\u001b[2m│   │   \u001b[0m\u001b[94mwith\u001b[0m ctx_factory():                                                                \u001b[31m│\u001b[0m\n",
              "\u001b[31m│\u001b[0m \u001b[31m❱ \u001b[0m115 \u001b[2m│   │   │   \u001b[0m\u001b[94mreturn\u001b[0m func(*args, **kwargs)                                                   \u001b[31m│\u001b[0m\n",
              "\u001b[31m│\u001b[0m   \u001b[2m116 \u001b[0m\u001b[2m│   \u001b[0m                                                                                       \u001b[31m│\u001b[0m\n",
              "\u001b[31m│\u001b[0m   \u001b[2m117 \u001b[0m\u001b[2m│   \u001b[0m\u001b[94mreturn\u001b[0m decorate_context                                                                \u001b[31m│\u001b[0m\n",
              "\u001b[31m│\u001b[0m   \u001b[2m118 \u001b[0m                                                                                           \u001b[31m│\u001b[0m\n",
              "\u001b[31m│\u001b[0m                                                                                                  \u001b[31m│\u001b[0m\n",
              "\u001b[31m│\u001b[0m \u001b[2;33m/usr/local/lib/python3.10/dist-packages/transformers/generation/\u001b[0m\u001b[1;33mutils.py\u001b[0m:\u001b[94m1522\u001b[0m in \u001b[92mgenerate\u001b[0m        \u001b[31m│\u001b[0m\n",
              "\u001b[31m│\u001b[0m                                                                                                  \u001b[31m│\u001b[0m\n",
              "\u001b[31m│\u001b[0m   \u001b[2m1519 \u001b[0m\u001b[2m│   │   │   │   \u001b[0m)                                                                         \u001b[31m│\u001b[0m\n",
              "\u001b[31m│\u001b[0m   \u001b[2m1520 \u001b[0m\u001b[2m│   │   │   \u001b[0m                                                                              \u001b[31m│\u001b[0m\n",
              "\u001b[31m│\u001b[0m   \u001b[2m1521 \u001b[0m\u001b[2m│   │   │   \u001b[0m\u001b[2m# 11. run greedy search\u001b[0m                                                       \u001b[31m│\u001b[0m\n",
              "\u001b[31m│\u001b[0m \u001b[31m❱ \u001b[0m1522 \u001b[2m│   │   │   \u001b[0m\u001b[94mreturn\u001b[0m \u001b[96mself\u001b[0m.greedy_search(                                                    \u001b[31m│\u001b[0m\n",
              "\u001b[31m│\u001b[0m   \u001b[2m1523 \u001b[0m\u001b[2m│   │   │   │   \u001b[0minput_ids,                                                                \u001b[31m│\u001b[0m\n",
              "\u001b[31m│\u001b[0m   \u001b[2m1524 \u001b[0m\u001b[2m│   │   │   │   \u001b[0mlogits_processor=logits_processor,                                        \u001b[31m│\u001b[0m\n",
              "\u001b[31m│\u001b[0m   \u001b[2m1525 \u001b[0m\u001b[2m│   │   │   │   \u001b[0mstopping_criteria=stopping_criteria,                                      \u001b[31m│\u001b[0m\n",
              "\u001b[31m│\u001b[0m                                                                                                  \u001b[31m│\u001b[0m\n",
              "\u001b[31m│\u001b[0m \u001b[2;33m/usr/local/lib/python3.10/dist-packages/transformers/generation/\u001b[0m\u001b[1;33mutils.py\u001b[0m:\u001b[94m2336\u001b[0m in \u001b[92mgreedy_search\u001b[0m   \u001b[31m│\u001b[0m\n",
              "\u001b[31m│\u001b[0m                                                                                                  \u001b[31m│\u001b[0m\n",
              "\u001b[31m│\u001b[0m   \u001b[2m2333 \u001b[0m\u001b[2m│   │   │   │   │   \u001b[0m\u001b[94mbreak\u001b[0m                                                                 \u001b[31m│\u001b[0m\n",
              "\u001b[31m│\u001b[0m   \u001b[2m2334 \u001b[0m\u001b[2m│   │   │   \u001b[0m                                                                              \u001b[31m│\u001b[0m\n",
              "\u001b[31m│\u001b[0m   \u001b[2m2335 \u001b[0m\u001b[2m│   │   │   \u001b[0m\u001b[2m# prepare model inputs\u001b[0m                                                        \u001b[31m│\u001b[0m\n",
              "\u001b[31m│\u001b[0m \u001b[31m❱ \u001b[0m2336 \u001b[2m│   │   │   \u001b[0mmodel_inputs = \u001b[96mself\u001b[0m.prepare_inputs_for_generation(input_ids, **model_kwargs)  \u001b[31m│\u001b[0m\n",
              "\u001b[31m│\u001b[0m   \u001b[2m2337 \u001b[0m\u001b[2m│   │   │   \u001b[0m                                                                              \u001b[31m│\u001b[0m\n",
              "\u001b[31m│\u001b[0m   \u001b[2m2338 \u001b[0m\u001b[2m│   │   │   \u001b[0m\u001b[2m# forward pass to get next token\u001b[0m                                              \u001b[31m│\u001b[0m\n",
              "\u001b[31m│\u001b[0m   \u001b[2m2339 \u001b[0m\u001b[2m│   │   │   \u001b[0moutputs = \u001b[96mself\u001b[0m(                                                               \u001b[31m│\u001b[0m\n",
              "\u001b[31m│\u001b[0m                                                                                                  \u001b[31m│\u001b[0m\n",
              "\u001b[31m│\u001b[0m \u001b[2;33m/root/.cache/huggingface/modules/transformers_modules/mosaicml/mpt-7b-instruct/e7119f37956c1a386\u001b[0m \u001b[31m│\u001b[0m\n",
              "\u001b[31m│\u001b[0m \u001b[2;33m5da33e25ef5ce9159ff2c16/\u001b[0m\u001b[1;33mmodeling_mpt.py\u001b[0m:\u001b[94m281\u001b[0m in \u001b[92mprepare_inputs_for_generation\u001b[0m                     \u001b[31m│\u001b[0m\n",
              "\u001b[31m│\u001b[0m                                                                                                  \u001b[31m│\u001b[0m\n",
              "\u001b[31m│\u001b[0m   \u001b[2m278 \u001b[0m\u001b[2m│   │   \u001b[0m\u001b[94mif\u001b[0m inputs_embeds \u001b[95mis\u001b[0m \u001b[95mnot\u001b[0m \u001b[94mNone\u001b[0m:                                                      \u001b[31m│\u001b[0m\n",
              "\u001b[31m│\u001b[0m   \u001b[2m279 \u001b[0m\u001b[2m│   │   │   \u001b[0m\u001b[94mraise\u001b[0m \u001b[96mNotImplementedError\u001b[0m(\u001b[33m'\u001b[0m\u001b[33minputs_embeds is not implemented for MPT yet\u001b[0m\u001b[33m'\u001b[0m)      \u001b[31m│\u001b[0m\n",
              "\u001b[31m│\u001b[0m   \u001b[2m280 \u001b[0m\u001b[2m│   │   \u001b[0mattention_mask = kwargs[\u001b[33m'\u001b[0m\u001b[33mattention_mask\u001b[0m\u001b[33m'\u001b[0m].bool()                                   \u001b[31m│\u001b[0m\n",
              "\u001b[31m│\u001b[0m \u001b[31m❱ \u001b[0m281 \u001b[2m│   │   \u001b[0m\u001b[94mif\u001b[0m attention_mask[:, -\u001b[94m1\u001b[0m].sum() != attention_mask.shape[\u001b[94m0\u001b[0m]:                         \u001b[31m│\u001b[0m\n",
              "\u001b[31m│\u001b[0m   \u001b[2m282 \u001b[0m\u001b[2m│   │   │   \u001b[0m\u001b[94mraise\u001b[0m \u001b[96mNotImplementedError\u001b[0m(\u001b[33m'\u001b[0m\u001b[33mMPT does not support generation with right paddin\u001b[0m   \u001b[31m│\u001b[0m\n",
              "\u001b[31m│\u001b[0m   \u001b[2m283 \u001b[0m\u001b[2m│   │   \u001b[0m\u001b[94mif\u001b[0m \u001b[96mself\u001b[0m.transformer.attn_uses_sequence_id \u001b[95mand\u001b[0m \u001b[96mself\u001b[0m.training:                       \u001b[31m│\u001b[0m\n",
              "\u001b[31m│\u001b[0m   \u001b[2m284 \u001b[0m\u001b[2m│   │   │   \u001b[0msequence_id = torch.zeros_like(input_ids[:\u001b[94m1\u001b[0m])                                  \u001b[31m│\u001b[0m\n",
              "\u001b[31m╰──────────────────────────────────────────────────────────────────────────────────────────────────╯\u001b[0m\n",
              "\u001b[1;91mKeyboardInterrupt\u001b[0m\n"
            ],
            "text/html": [
              "<pre style=\"white-space:pre;overflow-x:auto;line-height:normal;font-family:Menlo,'DejaVu Sans Mono',consolas,'Courier New',monospace\"><span style=\"color: #800000; text-decoration-color: #800000\">╭─────────────────────────────── </span><span style=\"color: #800000; text-decoration-color: #800000; font-weight: bold\">Traceback </span><span style=\"color: #bf7f7f; text-decoration-color: #bf7f7f; font-weight: bold\">(most recent call last)</span><span style=\"color: #800000; text-decoration-color: #800000\"> ────────────────────────────────╮</span>\n",
              "<span style=\"color: #800000; text-decoration-color: #800000\">│</span> in <span style=\"color: #00ff00; text-decoration-color: #00ff00\">&lt;cell line: 6&gt;</span>:<span style=\"color: #0000ff; text-decoration-color: #0000ff\">6</span>                                                                              <span style=\"color: #800000; text-decoration-color: #800000\">│</span>\n",
              "<span style=\"color: #800000; text-decoration-color: #800000\">│</span>                                                                                                  <span style=\"color: #800000; text-decoration-color: #800000\">│</span>\n",
              "<span style=\"color: #800000; text-decoration-color: #800000\">│</span> <span style=\"color: #bfbf7f; text-decoration-color: #bfbf7f\">/usr/local/lib/python3.10/dist-packages/torch/utils/</span><span style=\"color: #808000; text-decoration-color: #808000; font-weight: bold\">_contextlib.py</span>:<span style=\"color: #0000ff; text-decoration-color: #0000ff\">115</span> in <span style=\"color: #00ff00; text-decoration-color: #00ff00\">decorate_context</span>       <span style=\"color: #800000; text-decoration-color: #800000\">│</span>\n",
              "<span style=\"color: #800000; text-decoration-color: #800000\">│</span>                                                                                                  <span style=\"color: #800000; text-decoration-color: #800000\">│</span>\n",
              "<span style=\"color: #800000; text-decoration-color: #800000\">│</span>   <span style=\"color: #7f7f7f; text-decoration-color: #7f7f7f\">112 │   </span><span style=\"color: #ff00ff; text-decoration-color: #ff00ff; font-weight: bold\">@functools</span>.wraps(func)                                                                 <span style=\"color: #800000; text-decoration-color: #800000\">│</span>\n",
              "<span style=\"color: #800000; text-decoration-color: #800000\">│</span>   <span style=\"color: #7f7f7f; text-decoration-color: #7f7f7f\">113 │   </span><span style=\"color: #0000ff; text-decoration-color: #0000ff\">def</span> <span style=\"color: #00ff00; text-decoration-color: #00ff00\">decorate_context</span>(*args, **kwargs):                                                 <span style=\"color: #800000; text-decoration-color: #800000\">│</span>\n",
              "<span style=\"color: #800000; text-decoration-color: #800000\">│</span>   <span style=\"color: #7f7f7f; text-decoration-color: #7f7f7f\">114 │   │   </span><span style=\"color: #0000ff; text-decoration-color: #0000ff\">with</span> ctx_factory():                                                                <span style=\"color: #800000; text-decoration-color: #800000\">│</span>\n",
              "<span style=\"color: #800000; text-decoration-color: #800000\">│</span> <span style=\"color: #800000; text-decoration-color: #800000\">❱ </span>115 <span style=\"color: #7f7f7f; text-decoration-color: #7f7f7f\">│   │   │   </span><span style=\"color: #0000ff; text-decoration-color: #0000ff\">return</span> func(*args, **kwargs)                                                   <span style=\"color: #800000; text-decoration-color: #800000\">│</span>\n",
              "<span style=\"color: #800000; text-decoration-color: #800000\">│</span>   <span style=\"color: #7f7f7f; text-decoration-color: #7f7f7f\">116 │   </span>                                                                                       <span style=\"color: #800000; text-decoration-color: #800000\">│</span>\n",
              "<span style=\"color: #800000; text-decoration-color: #800000\">│</span>   <span style=\"color: #7f7f7f; text-decoration-color: #7f7f7f\">117 │   </span><span style=\"color: #0000ff; text-decoration-color: #0000ff\">return</span> decorate_context                                                                <span style=\"color: #800000; text-decoration-color: #800000\">│</span>\n",
              "<span style=\"color: #800000; text-decoration-color: #800000\">│</span>   <span style=\"color: #7f7f7f; text-decoration-color: #7f7f7f\">118 </span>                                                                                           <span style=\"color: #800000; text-decoration-color: #800000\">│</span>\n",
              "<span style=\"color: #800000; text-decoration-color: #800000\">│</span>                                                                                                  <span style=\"color: #800000; text-decoration-color: #800000\">│</span>\n",
              "<span style=\"color: #800000; text-decoration-color: #800000\">│</span> <span style=\"color: #bfbf7f; text-decoration-color: #bfbf7f\">/usr/local/lib/python3.10/dist-packages/transformers/generation/</span><span style=\"color: #808000; text-decoration-color: #808000; font-weight: bold\">utils.py</span>:<span style=\"color: #0000ff; text-decoration-color: #0000ff\">1522</span> in <span style=\"color: #00ff00; text-decoration-color: #00ff00\">generate</span>        <span style=\"color: #800000; text-decoration-color: #800000\">│</span>\n",
              "<span style=\"color: #800000; text-decoration-color: #800000\">│</span>                                                                                                  <span style=\"color: #800000; text-decoration-color: #800000\">│</span>\n",
              "<span style=\"color: #800000; text-decoration-color: #800000\">│</span>   <span style=\"color: #7f7f7f; text-decoration-color: #7f7f7f\">1519 │   │   │   │   </span>)                                                                         <span style=\"color: #800000; text-decoration-color: #800000\">│</span>\n",
              "<span style=\"color: #800000; text-decoration-color: #800000\">│</span>   <span style=\"color: #7f7f7f; text-decoration-color: #7f7f7f\">1520 │   │   │   </span>                                                                              <span style=\"color: #800000; text-decoration-color: #800000\">│</span>\n",
              "<span style=\"color: #800000; text-decoration-color: #800000\">│</span>   <span style=\"color: #7f7f7f; text-decoration-color: #7f7f7f\">1521 │   │   │   # 11. run greedy search</span>                                                       <span style=\"color: #800000; text-decoration-color: #800000\">│</span>\n",
              "<span style=\"color: #800000; text-decoration-color: #800000\">│</span> <span style=\"color: #800000; text-decoration-color: #800000\">❱ </span>1522 <span style=\"color: #7f7f7f; text-decoration-color: #7f7f7f\">│   │   │   </span><span style=\"color: #0000ff; text-decoration-color: #0000ff\">return</span> <span style=\"color: #00ffff; text-decoration-color: #00ffff\">self</span>.greedy_search(                                                    <span style=\"color: #800000; text-decoration-color: #800000\">│</span>\n",
              "<span style=\"color: #800000; text-decoration-color: #800000\">│</span>   <span style=\"color: #7f7f7f; text-decoration-color: #7f7f7f\">1523 │   │   │   │   </span>input_ids,                                                                <span style=\"color: #800000; text-decoration-color: #800000\">│</span>\n",
              "<span style=\"color: #800000; text-decoration-color: #800000\">│</span>   <span style=\"color: #7f7f7f; text-decoration-color: #7f7f7f\">1524 │   │   │   │   </span>logits_processor=logits_processor,                                        <span style=\"color: #800000; text-decoration-color: #800000\">│</span>\n",
              "<span style=\"color: #800000; text-decoration-color: #800000\">│</span>   <span style=\"color: #7f7f7f; text-decoration-color: #7f7f7f\">1525 │   │   │   │   </span>stopping_criteria=stopping_criteria,                                      <span style=\"color: #800000; text-decoration-color: #800000\">│</span>\n",
              "<span style=\"color: #800000; text-decoration-color: #800000\">│</span>                                                                                                  <span style=\"color: #800000; text-decoration-color: #800000\">│</span>\n",
              "<span style=\"color: #800000; text-decoration-color: #800000\">│</span> <span style=\"color: #bfbf7f; text-decoration-color: #bfbf7f\">/usr/local/lib/python3.10/dist-packages/transformers/generation/</span><span style=\"color: #808000; text-decoration-color: #808000; font-weight: bold\">utils.py</span>:<span style=\"color: #0000ff; text-decoration-color: #0000ff\">2336</span> in <span style=\"color: #00ff00; text-decoration-color: #00ff00\">greedy_search</span>   <span style=\"color: #800000; text-decoration-color: #800000\">│</span>\n",
              "<span style=\"color: #800000; text-decoration-color: #800000\">│</span>                                                                                                  <span style=\"color: #800000; text-decoration-color: #800000\">│</span>\n",
              "<span style=\"color: #800000; text-decoration-color: #800000\">│</span>   <span style=\"color: #7f7f7f; text-decoration-color: #7f7f7f\">2333 │   │   │   │   │   </span><span style=\"color: #0000ff; text-decoration-color: #0000ff\">break</span>                                                                 <span style=\"color: #800000; text-decoration-color: #800000\">│</span>\n",
              "<span style=\"color: #800000; text-decoration-color: #800000\">│</span>   <span style=\"color: #7f7f7f; text-decoration-color: #7f7f7f\">2334 │   │   │   </span>                                                                              <span style=\"color: #800000; text-decoration-color: #800000\">│</span>\n",
              "<span style=\"color: #800000; text-decoration-color: #800000\">│</span>   <span style=\"color: #7f7f7f; text-decoration-color: #7f7f7f\">2335 │   │   │   # prepare model inputs</span>                                                        <span style=\"color: #800000; text-decoration-color: #800000\">│</span>\n",
              "<span style=\"color: #800000; text-decoration-color: #800000\">│</span> <span style=\"color: #800000; text-decoration-color: #800000\">❱ </span>2336 <span style=\"color: #7f7f7f; text-decoration-color: #7f7f7f\">│   │   │   </span>model_inputs = <span style=\"color: #00ffff; text-decoration-color: #00ffff\">self</span>.prepare_inputs_for_generation(input_ids, **model_kwargs)  <span style=\"color: #800000; text-decoration-color: #800000\">│</span>\n",
              "<span style=\"color: #800000; text-decoration-color: #800000\">│</span>   <span style=\"color: #7f7f7f; text-decoration-color: #7f7f7f\">2337 │   │   │   </span>                                                                              <span style=\"color: #800000; text-decoration-color: #800000\">│</span>\n",
              "<span style=\"color: #800000; text-decoration-color: #800000\">│</span>   <span style=\"color: #7f7f7f; text-decoration-color: #7f7f7f\">2338 │   │   │   # forward pass to get next token</span>                                              <span style=\"color: #800000; text-decoration-color: #800000\">│</span>\n",
              "<span style=\"color: #800000; text-decoration-color: #800000\">│</span>   <span style=\"color: #7f7f7f; text-decoration-color: #7f7f7f\">2339 │   │   │   </span>outputs = <span style=\"color: #00ffff; text-decoration-color: #00ffff\">self</span>(                                                               <span style=\"color: #800000; text-decoration-color: #800000\">│</span>\n",
              "<span style=\"color: #800000; text-decoration-color: #800000\">│</span>                                                                                                  <span style=\"color: #800000; text-decoration-color: #800000\">│</span>\n",
              "<span style=\"color: #800000; text-decoration-color: #800000\">│</span> <span style=\"color: #bfbf7f; text-decoration-color: #bfbf7f\">/root/.cache/huggingface/modules/transformers_modules/mosaicml/mpt-7b-instruct/e7119f37956c1a386</span> <span style=\"color: #800000; text-decoration-color: #800000\">│</span>\n",
              "<span style=\"color: #800000; text-decoration-color: #800000\">│</span> <span style=\"color: #bfbf7f; text-decoration-color: #bfbf7f\">5da33e25ef5ce9159ff2c16/</span><span style=\"color: #808000; text-decoration-color: #808000; font-weight: bold\">modeling_mpt.py</span>:<span style=\"color: #0000ff; text-decoration-color: #0000ff\">281</span> in <span style=\"color: #00ff00; text-decoration-color: #00ff00\">prepare_inputs_for_generation</span>                     <span style=\"color: #800000; text-decoration-color: #800000\">│</span>\n",
              "<span style=\"color: #800000; text-decoration-color: #800000\">│</span>                                                                                                  <span style=\"color: #800000; text-decoration-color: #800000\">│</span>\n",
              "<span style=\"color: #800000; text-decoration-color: #800000\">│</span>   <span style=\"color: #7f7f7f; text-decoration-color: #7f7f7f\">278 │   │   </span><span style=\"color: #0000ff; text-decoration-color: #0000ff\">if</span> inputs_embeds <span style=\"color: #ff00ff; text-decoration-color: #ff00ff\">is</span> <span style=\"color: #ff00ff; text-decoration-color: #ff00ff\">not</span> <span style=\"color: #0000ff; text-decoration-color: #0000ff\">None</span>:                                                      <span style=\"color: #800000; text-decoration-color: #800000\">│</span>\n",
              "<span style=\"color: #800000; text-decoration-color: #800000\">│</span>   <span style=\"color: #7f7f7f; text-decoration-color: #7f7f7f\">279 │   │   │   </span><span style=\"color: #0000ff; text-decoration-color: #0000ff\">raise</span> <span style=\"color: #00ffff; text-decoration-color: #00ffff\">NotImplementedError</span>(<span style=\"color: #808000; text-decoration-color: #808000\">'inputs_embeds is not implemented for MPT yet'</span>)      <span style=\"color: #800000; text-decoration-color: #800000\">│</span>\n",
              "<span style=\"color: #800000; text-decoration-color: #800000\">│</span>   <span style=\"color: #7f7f7f; text-decoration-color: #7f7f7f\">280 │   │   </span>attention_mask = kwargs[<span style=\"color: #808000; text-decoration-color: #808000\">'attention_mask'</span>].bool()                                   <span style=\"color: #800000; text-decoration-color: #800000\">│</span>\n",
              "<span style=\"color: #800000; text-decoration-color: #800000\">│</span> <span style=\"color: #800000; text-decoration-color: #800000\">❱ </span>281 <span style=\"color: #7f7f7f; text-decoration-color: #7f7f7f\">│   │   </span><span style=\"color: #0000ff; text-decoration-color: #0000ff\">if</span> attention_mask[:, -<span style=\"color: #0000ff; text-decoration-color: #0000ff\">1</span>].sum() != attention_mask.shape[<span style=\"color: #0000ff; text-decoration-color: #0000ff\">0</span>]:                         <span style=\"color: #800000; text-decoration-color: #800000\">│</span>\n",
              "<span style=\"color: #800000; text-decoration-color: #800000\">│</span>   <span style=\"color: #7f7f7f; text-decoration-color: #7f7f7f\">282 │   │   │   </span><span style=\"color: #0000ff; text-decoration-color: #0000ff\">raise</span> <span style=\"color: #00ffff; text-decoration-color: #00ffff\">NotImplementedError</span>(<span style=\"color: #808000; text-decoration-color: #808000\">'MPT does not support generation with right paddin</span>   <span style=\"color: #800000; text-decoration-color: #800000\">│</span>\n",
              "<span style=\"color: #800000; text-decoration-color: #800000\">│</span>   <span style=\"color: #7f7f7f; text-decoration-color: #7f7f7f\">283 │   │   </span><span style=\"color: #0000ff; text-decoration-color: #0000ff\">if</span> <span style=\"color: #00ffff; text-decoration-color: #00ffff\">self</span>.transformer.attn_uses_sequence_id <span style=\"color: #ff00ff; text-decoration-color: #ff00ff\">and</span> <span style=\"color: #00ffff; text-decoration-color: #00ffff\">self</span>.training:                       <span style=\"color: #800000; text-decoration-color: #800000\">│</span>\n",
              "<span style=\"color: #800000; text-decoration-color: #800000\">│</span>   <span style=\"color: #7f7f7f; text-decoration-color: #7f7f7f\">284 │   │   │   </span>sequence_id = torch.zeros_like(input_ids[:<span style=\"color: #0000ff; text-decoration-color: #0000ff\">1</span>])                                  <span style=\"color: #800000; text-decoration-color: #800000\">│</span>\n",
              "<span style=\"color: #800000; text-decoration-color: #800000\">╰──────────────────────────────────────────────────────────────────────────────────────────────────╯</span>\n",
              "<span style=\"color: #ff0000; text-decoration-color: #ff0000; font-weight: bold\">KeyboardInterrupt</span>\n",
              "</pre>\n"
            ]
          },
          "metadata": {}
        }
      ],
      "source": [
        "question = \"What are the landlord's duties \"\n",
        "input_text = \" Content: \" + big_content + \" \" + question + \"Answer is: \"\n",
        "\n",
        "tokenized_example = tokenizer(input_text, return_tensors=\"pt\")\n",
        "\n",
        "outputs = model.generate(tokenized_example['input_ids'].to('cuda:0'), do_sample=False, top_k=5, top_p=0.95)\n",
        "answer = tokenizer.batch_decode(outputs, skip_special_tokens=True)\n",
        "\n",
        "print(answer[0].rstrip())"
      ]
    },
    {
      "cell_type": "code",
      "execution_count": null,
      "metadata": {
        "id": "NvILdyILYzoJ"
      },
      "outputs": [],
      "source": [
        "def print_trainable_parameters(model):\n",
        "    \"\"\"\n",
        "    Prints the number of trainable parameters in the model.\n",
        "    \"\"\"\n",
        "    trainable_params = 0\n",
        "    all_param = 0\n",
        "    for _, param in model.named_parameters():\n",
        "        all_param += param.numel()\n",
        "        if param.requires_grad:\n",
        "            trainable_params += param.numel()\n",
        "    print(\n",
        "        f\"trainable params: {trainable_params} || all params: {all_param} || trainable%: {100 * trainable_params / all_param}\"\n",
        "    )"
      ]
    },
    {
      "cell_type": "code",
      "execution_count": null,
      "metadata": {
        "id": "PaR1lI16Z-V1",
        "colab": {
          "base_uri": "https://localhost:8080/"
        },
        "outputId": "6b159b70-6805-4404-90a3-cef732ae0195"
      },
      "outputs": [
        {
          "output_type": "stream",
          "name": "stdout",
          "text": [
            "trainable params: 6649286656 || all params: 6649286656 || trainable%: 100.0\n"
          ]
        }
      ],
      "source": [
        "print_trainable_parameters(model)"
      ]
    },
    {
      "cell_type": "code",
      "execution_count": null,
      "metadata": {
        "id": "JDTa1t2uaoU1",
        "colab": {
          "base_uri": "https://localhost:8080/"
        },
        "outputId": "d879fa6e-7112-4db5-9f26-9c4f7bf515bd"
      },
      "outputs": [
        {
          "output_type": "execute_result",
          "data": {
            "text/plain": [
              "2687"
            ]
          },
          "metadata": {},
          "execution_count": 23
        }
      ],
      "source": [
        "big_content = \"My mother is 78 years old. \" + content \n",
        "check_big_content_len = big_content.split(\" \")\n",
        "len(check_big_content_len)"
      ]
    },
    {
      "cell_type": "code",
      "source": [
        "torch.cuda.empty_cache()"
      ],
      "metadata": {
        "id": "MdyNjvaeXKBm"
      },
      "execution_count": null,
      "outputs": []
    },
    {
      "cell_type": "code",
      "execution_count": null,
      "metadata": {
        "id": "qqjkXCJxbQRI",
        "colab": {
          "base_uri": "https://localhost:8080/"
        },
        "outputId": "21dd9232-0a7e-4f0b-9c50-1c17908f0af1"
      },
      "outputs": [
        {
          "output_type": "stream",
          "name": "stdout",
          "text": [
            " Content: My mother is 78 years old. Maryland and federal laws about lead paint are designed to reduce childhood lead poisoning. This article describes the duties of landlords and property owners of residential housing built before 1978. Information for renters and buyers can be found in another article.   Topics on this page:  Which homes are covered by Maryland’s lead paint law? Use of lead paint Owning and selling an Affected Property Landlord's duties Frequently asked questions for landlords    Which homes are covered by Maryland’s lead paint law? Only pre-1978 residential rental properties/units (“Affected Properties”) are regulated by Maryland’s Reduction of Lead Risk in Housing Act. Owner-occupied properties/units are not regulated. Affected Properties that are Maryland Department of the Environment (MDE) certified lead-free or limited lead-free are exempt from Maryland’s lead paint law. Affected Properties owned or operated by federal, State, or local government or by a public, quasi-public, or municipal corporation are also exempt, provided the Affected Properties are subject to standards at least as strict as the standards established by Maryland’s lead paint law.  Read the Law:  Md. Code, Environment §§ 6-801, 6-803 and 6-804   Use of lead paint State law prohibits any person from using lead-based paint on any interior surface, on the porch of any dwelling, on any exterior surface to which children may commonly be exposed, and on any household use article except where lead-based industrial paint is applied to a household appliance. A violation of this law is a misdemeanor and is punishable by a fine of up to $1,000 or imprisonment of up to 30 days or both. Each day that a violation continues is a separate offense. Read the Law:  Md. Code, Environment § 6-301 and § 6-302; Md. Code, Real Property § 8-211.1   Owning and selling an Affected Property When selling a home built before 1978, state and federal laws require certain disclosures. Under Maryland law, the owner is required to disclose whether any lead paint related remediation needs to be done, and whether the owner will perform the remediation before the sale. Read the Law:  Md. Code, Environment § 6-824 Federal law also requires sellers to make certain disclosures. These federal disclosures apply to lead paint as well as other lead hazards such as lead pipes.  Sellers must disclose the presence of known lead-based hazards in the housing (to see what the disclosure looks like, visit the EPA's website); Sellers must provide purchasers and lessees with any available records or reports pertaining to the presence of lead-based hazards; Sellers and landlords must provide purchasers and lessees with the EPA pamphlet, “Protect Your Family From Lead in Your Home”; Sellers must provide purchasers with a 10-day opportunity to conduct a risk assessment or inspection for the presence of lead-based hazards before the purchaser is obligated under any purchase contract; Sales contracts must include certain disclosure and acknowledgment language; and Agents must ensure compliance with the requirements.  Read the Law:  United States Code, Title 42, § 4852d; Code of Federal Regulations, Title 24, Part 35 For more information about required disclosures, see the EPA's website. Property renovation If your home was built before 1978, contractors performing certain repairs and renovations are required to assess the project for the presence of lead paint. If the contractor will be replacing windows, weatherizing the home, or demolition of painted surface areas, they must conduct the assessment. When selecting a contractor, check to see if they:  are certified by EPA or the state; use workers trained by EPA-approved training providers; and follow lead-safe work practices.  Before contractors, property managers, or other persons start renovation and repair activities, they must distribute EPA’s lead hazard information pamphlet, “The Lead-Safe Certified Guide to Renovate Right” to occupants and owners of homes. This rule does not apply to owners who perform work in their own residence. Read the Law: United States Code Title 15, Lead Exposure Reduction; Code of Federal Regulations, Title 40, Part 745 For more information about repairs and renovations, see the EPA's website.   Landlord's duties Property Registration Owners are required to register their Affected Properties with MDE and to renew the registration each year. Affected Properties built before 1978 must be registered.  Owners have 30 days following acquisition of an Affected Property to satisfy Maryland’s registration requirements. There is a $30 registration fee for each Affected Property. Affected Properties that have been MDE-certified lead-free or limited lead-free are exempt from Maryland’s registration requirements. However, owners must pay MDE a one-time lead-processing fee of $10 per property/unit. MDE tracks the registration status of all Affected Properties in Maryland through MDE’s lead rental registry database. Registration forms are open for public inspection, but MDE may not disclose to the public an inventory or list of Affected Properties owned by an individual owner. However, MDE must disclose, upon request, whether an owner has registered a particular Affected Property with MDE and whether an owner has met the 50 and 100 percent compliance requirements described below. Properties that have passed a Lead Free inspection are exempt from the registration requirement. Information on how to register and renew the registration can be found on the Maryland Department of the Environment website. Read the Law: Md. Code, Environment §§ 6-811, 6-812, 6-843 and 6-845. Risk reduction lead inspection Each time the tenant changes, the Affected Property must pass a risk reduction lead inspection. To pass the inspection, the Affected Property must pass a lead-contaminated dust test, and ensure no paint is chipping, peeling, or flaking. The inspection should be completed by a MDE-accredited lead paint inspection contractor. A typical inspection will include the following elements:  lead-contaminated dust test Conduct a visual view of all interior and exterior painted surfaces; Remove and repaint all chipping, peeling or flaking paint on exterior and interior painted surfaces; Repair any structural defect that is causing the paint to chip, peel or flake; Strip and repaint, replace or encapsulate all interior windowsills with vinyl, metal, or any other material approved by MDE; Ensure that caps of vinyl, aluminum, or any other material approved by MDE are installed in all window wells to make the window wells smooth and cleanable; Except for a treated or replacement window that is free of lead-based paint on its friction surfaces, fix the top sash of all windows to eliminate any friction caused by movement of the top sash; Re-hang all doors to prevent any lead-painted surfaces from rubbing with other surfaces; Ensure that all kitchen and bathroom floors are overlaid with a smooth, water-resistant covering; and HEPA-vacuum and wash with high phosphate detergent any area of the rental property/unit where repairs were made.  A lead-contaminated dust test consists of wipe samples which are sent to a laboratory for analysis. A report is then created that lists any area of lead that exceeds the lead content level established by MDE by regulation.  After the inspection, the inspector will submit a copy of the full risk reduction certificate, along with all inspection results, laboratory analysis, and supporting documents to MDE and the owner. MDE tracks the certificate status of all Affected Properties in Maryland through a database that is available on their website. Read the Law: Md. Code, Environment §§ 6-801, 6-815, 6-817, 6-816 and 6-818; Code of Maryland Regulations 26.16.02.02. Educational Documents Owners must distribute MDE's “Notice of Tenants’ Rights” and the EPA's pamphlet, “Protect Your Family From Lead In Your Home” to all new tenants of Affected Properties at the beginning of the tenancy and to existing tenants every two years. Read the Law: Md. Code, Environment §§ 6-820 and 6-823.   Frequently asked questions for landlords What must an owner do upon receiving a written Notice of Defect or a written Notice of Elevated Blood Lead Level (“EBL”)?  If the owner receives a Notice of Defect or a written Notice of Elevated Blood Lead Level, they must act within 30 days if:  there is a structural defects and/or chipping, peeling or flaking paint, or\r         a child under six years of age or a pregnant woman has an EBL as described in Md. Code, Environment § 6-801 (generally from a local health department)  The owner is required to:  Provide for the permanent relocation of all tenants to a property that is MDE-certified lead-free or is in compliance with the full risk reduction standard, or\r         Temporarily relocate all tenants while work is being performed at the Affected Property and obtain a passing modified risk reduction inspection certificate prior to the tenants moving back in.  MDE receives copies of Notices of EBL and monitors the EBL notices. Regarding Notices of Defect, if an owner fails to comply with this notice, a tenant can make a complaint with MDE by calling 410-537-3825.  A tenant will need to provide MDE with a copy of the Notice of Defect and written verification of the owner’s receipt of the Notice of Defect.  Read the Law: Md. Code, Environment §§ 6-819 and 6-821.  Are there penalties for failing to comply with the Maryland Reduction in Lead Risk in Housing Act? Owners that fail to register or renew an Affected Property with MDE are subject to a penalty of up to $20 per day until the Affected Property is registered or renewed. Owners that fail to obtain an applicable passing lead paint risk reduction inspection certificate or distribute the lead-educational materials are subject to a penalty. The penalty is up to $500 per day, per Affected Property, for each day of violation until a risk reduction inspection certificate is filed with MDE, but not exceeding $100,000 total penalty.  Owners may also be subject to civil penalties not exceeding $25,000 for lead violations. Each day a violation occurs is a separate violation.  Read the Law: Md. Code, Environment §§ 6-843, 6-849, 6-850 and 7-266.  What are some of the retaliatory actions owners of Affected Properties are prohibited from doing?  Owners of Affected Properties may not illegally evict or take any other retaliatory action against a tenant “primarily” as a result of the tenant providing information to the landlord. Examples of protected actions include complaining about hazardous conditions or chipping, peeling, or flaking paint in an Affected Property.   Prohibited retaliatory actions include:  arbitrary refusal to renew a lease; termination of tenancy; arbitrary rent increase, or decrease in service to which a tenant is entitled; or any kind of constructive eviction.  A tenant who was subjected to a retaliatory eviction or other prohibited retaliatory action by a landlord is permitted relief and is entitled to reasonable attorney’s fees and costs, as allowed under Maryland law. This section does not affect the landlord’s or the tenant’s rights arising from a breach of a lease. Read the Law: Md. Code, Real Property § 8-208.2  Is an Affected Property that has a lead-free inspection certificate or limited lead-free inspection certificate exempt from Maryland’s lead paint law?  An Affected Property that has been lead-paint tested received a “lead-free inspection certificate” or “limited lead-free inspection certificate” is exempt from the Reduction of Lead Risk in Housing Act. The property no longer has to be registered.     A “lead-free” inspection certificate means the property was tested for the presence of lead-based paint and all of the interior and exterior surfaces are lead-free.  A “limited lead-free” inspection certificate means only the interior surfaces are lead-free but the exterior painted surfaces are not lead-free. All exterior paint must be intact. A limited lead-free inspection certificate has a two-year expiration date. Every two years, owners must recertify that the Affected Property is free of chipping, peeling or flaking exterior paint. If the limited lead-free inspection certificate expires and is not timely recertified by the owner, the owner must obtain a new limited lead-free inspection certificate for the Affected Property and pay MDE another $10 lead processing fee per property/unit. Read the Law: Md. Code, Environment § 6-804 and § 6-843; Code of Maryland Regulation 26.16.02.   Who must be trained and accredited by MDE to perform lead abatement services? Maryland law requires that workers, supervisors, project designers, inspectors, or risk assessors involved in lead abatement be trained in safe work abatement practices and procedures. Contracting businesses, self-employed individuals, supervisors, inspectors, and risk assessors must be accredited by MDE. To verify whether a contractor or an inspector is accredited by MDE, visit MDE's website. Read the Law: Md. Code, Environment §§ 6-818, 6-1002; Code of Maryland Regulations 26.16.01.04.  Can owners perform risk reduction work on their Affected Properties? Owners may perform risk reduction work on their Affected Properties, but only after completing a two-day training session with an MDE-accredited training provider and after becoming an MDE-accredited lead paint maintenance and repainting supervisor.  For more information about MDE-accreditation, call MDE’s Lead Compliance and Accreditation Division at 410-537-3825. Read the Law: Md. Code, Environment §§ 6-818 and 6-1002; Code of Maryland Regulations 26.16.01.10.  Are owners required to remove persons at risk from their Affected Properties to perform maintenance or repairs at their Affected Properties? Owners must make reasonable efforts to remove pregnant women and children under six years of age from their Affected Properties while work is being performed that will disturb the paint on interior surfaces of the Affected Properties. Tenants must allow reasonable access to the Affected Properties so that work can be performed  If it is necessary that tenants vacate Affected Properties for 24 hours or more to allow work to be performed, owners must pay reasonable expenses that the tenants directly incur due to the relocation to temporary lead-safe housing.  Read the Law: Md. Code, Environment § 6-821  Can owners perform minor repairs and maintenance on their Affected Properties? Except for window removal or replacement, owners of Affected Properties may perform minor repairs and maintenance on their Affected Properties as long as the disturbance of a lead-containing substance, including plumbing and electrical work, involves three square feet or less of surface area in a room. Repairs or maintenance work that disturbs a lead-containing substance involving more than three square feet of surface area in a room must be performed by or under the supervision of personnel accredited by MDE.  Read the Law: Md. Code, Environment §§ 6-818 and 6-1002(b); Code of Maryland Regulations 26.16.01.03.  What is the difference between a lead-based paint inspection and a lead-based paint risk assessment? A lead-based paint inspection determines the presence of lead-based paint in an Affected Property. The inspection generally entails a surface-by-surface examination to determine whether there is lead-based paint and where it is located. Lead-based paint inspections must be performed by inspectors or risk assessors accredited by MDE.  A lead-based paint risk assessment is an on-site investigation of an Affected Property to determine the presence, type, severity, and location of lead-based paint hazards, including lead hazards in paint, dust, and soil, and provides recommendations to control the lead hazards  Risk assessments must be performed by lead paint risk assessors accredited by MDE.  Read the Regulation: Code of Maryland Regulations 26.16.01.02   Can owners obtain winter waivers to postpone exterior work on their Affected Properties?  Owners may apply to the local code officials of housing or minimum livability codes for a “winter waiver” to temporarily delay exterior work required to satisfy the risk reduction standard.  The local code official is based on the county or municipality where the Affected Property is located.  Some local jurisdictions have implemented annual exterior waiver time periods, but if no time period is specified, during November 1st through April 1st. However, the postponed work must be completed within 30 days after the end of the waiver period.  For questions concerning winter waivers, contact your local code official or call MDE’s Lead Poisoning Prevention Program at 410-537-3825. Read the Law: Md. Code, Environment §§ 6-815(d) and 6-819(j)  How old is my mother? Answer is: \n",
            "The local code official is based on the county or municipality where the Affected Property is located.  The inspection generally entails a surface-by-surface examination to determine whether there is lead-based paint and where it is located.  The inspection generally entails a surface-by-surface examination to determine whether there is lead-based paint and where it is located.  The inspection generally entails a surface-by-surface examination to determine whether the Affected Property is located.  The inspection generally entails a surface-by-surface examination to determine whether there is lead-based paint and where it is located.  The inspection generally entails a surface-by-surface examination to determine whether there is lead-based paint and where it is located.\n"
          ]
        }
      ],
      "source": [
        "question = \"How old is my mother? \"\n",
        "input_text = \" Content: \" + big_content + \" \" + question + \"Answer is: \"\n",
        "\n",
        "tokenized_example = tokenizer(input_text, return_tensors=\"pt\")\n",
        "\n",
        "outputs = model.generate(tokenized_example['input_ids'].to('cuda:0'),max_new_tokens=150, do_sample=False, top_k=5, top_p=0.95)\n",
        "answer = tokenizer.batch_decode(outputs, skip_special_tokens=True)\n",
        "\n",
        "print(answer[0].rstrip())\n",
        "torch.cuda.empty_cache()"
      ]
    },
    {
      "cell_type": "code",
      "source": [],
      "metadata": {
        "id": "-tBQnsZXUs5_"
      },
      "execution_count": null,
      "outputs": []
    }
  ],
  "metadata": {
    "colab": {
      "provenance": [],
      "machine_shape": "hm",
      "gpuType": "A100"
    },
    "kernelspec": {
      "display_name": "Python 3",
      "name": "python3"
    },
    "language_info": {
      "name": "python"
    },
    "accelerator": "GPU",
    "gpuClass": "standard",
    "widgets": {
      "application/vnd.jupyter.widget-state+json": {
        "c880fdc4f8a946169c533fa681659733": {
          "model_module": "@jupyter-widgets/controls",
          "model_name": "HBoxModel",
          "model_module_version": "1.5.0",
          "state": {
            "_dom_classes": [],
            "_model_module": "@jupyter-widgets/controls",
            "_model_module_version": "1.5.0",
            "_model_name": "HBoxModel",
            "_view_count": null,
            "_view_module": "@jupyter-widgets/controls",
            "_view_module_version": "1.5.0",
            "_view_name": "HBoxView",
            "box_style": "",
            "children": [
              "IPY_MODEL_ee9993ec091548d18302083da4ded4ab",
              "IPY_MODEL_b828505dfb6646629955237dc85dd800",
              "IPY_MODEL_eaf725e3a30a4c6bb63764d629e5abbc"
            ],
            "layout": "IPY_MODEL_16973c37763b429c9081757eb0519fda"
          }
        },
        "ee9993ec091548d18302083da4ded4ab": {
          "model_module": "@jupyter-widgets/controls",
          "model_name": "HTMLModel",
          "model_module_version": "1.5.0",
          "state": {
            "_dom_classes": [],
            "_model_module": "@jupyter-widgets/controls",
            "_model_module_version": "1.5.0",
            "_model_name": "HTMLModel",
            "_view_count": null,
            "_view_module": "@jupyter-widgets/controls",
            "_view_module_version": "1.5.0",
            "_view_name": "HTMLView",
            "description": "",
            "description_tooltip": null,
            "layout": "IPY_MODEL_7fb569bf3aac40a19da72d4cbaaad25e",
            "placeholder": "​",
            "style": "IPY_MODEL_7cabde964fb44623a94533d891882fc1",
            "value": "Downloading (…)okenizer_config.json: 100%"
          }
        },
        "b828505dfb6646629955237dc85dd800": {
          "model_module": "@jupyter-widgets/controls",
          "model_name": "FloatProgressModel",
          "model_module_version": "1.5.0",
          "state": {
            "_dom_classes": [],
            "_model_module": "@jupyter-widgets/controls",
            "_model_module_version": "1.5.0",
            "_model_name": "FloatProgressModel",
            "_view_count": null,
            "_view_module": "@jupyter-widgets/controls",
            "_view_module_version": "1.5.0",
            "_view_name": "ProgressView",
            "bar_style": "success",
            "description": "",
            "description_tooltip": null,
            "layout": "IPY_MODEL_ec02b02439504fe8ae2914180a647cef",
            "max": 237,
            "min": 0,
            "orientation": "horizontal",
            "style": "IPY_MODEL_1ebfff7f803d47a089073ecd481c8709",
            "value": 237
          }
        },
        "eaf725e3a30a4c6bb63764d629e5abbc": {
          "model_module": "@jupyter-widgets/controls",
          "model_name": "HTMLModel",
          "model_module_version": "1.5.0",
          "state": {
            "_dom_classes": [],
            "_model_module": "@jupyter-widgets/controls",
            "_model_module_version": "1.5.0",
            "_model_name": "HTMLModel",
            "_view_count": null,
            "_view_module": "@jupyter-widgets/controls",
            "_view_module_version": "1.5.0",
            "_view_name": "HTMLView",
            "description": "",
            "description_tooltip": null,
            "layout": "IPY_MODEL_9594ee00ec0240f798a643b8b54b576e",
            "placeholder": "​",
            "style": "IPY_MODEL_7f9d686368e74b4b8d28c7857539c954",
            "value": " 237/237 [00:00&lt;00:00, 19.7kB/s]"
          }
        },
        "16973c37763b429c9081757eb0519fda": {
          "model_module": "@jupyter-widgets/base",
          "model_name": "LayoutModel",
          "model_module_version": "1.2.0",
          "state": {
            "_model_module": "@jupyter-widgets/base",
            "_model_module_version": "1.2.0",
            "_model_name": "LayoutModel",
            "_view_count": null,
            "_view_module": "@jupyter-widgets/base",
            "_view_module_version": "1.2.0",
            "_view_name": "LayoutView",
            "align_content": null,
            "align_items": null,
            "align_self": null,
            "border": null,
            "bottom": null,
            "display": null,
            "flex": null,
            "flex_flow": null,
            "grid_area": null,
            "grid_auto_columns": null,
            "grid_auto_flow": null,
            "grid_auto_rows": null,
            "grid_column": null,
            "grid_gap": null,
            "grid_row": null,
            "grid_template_areas": null,
            "grid_template_columns": null,
            "grid_template_rows": null,
            "height": null,
            "justify_content": null,
            "justify_items": null,
            "left": null,
            "margin": null,
            "max_height": null,
            "max_width": null,
            "min_height": null,
            "min_width": null,
            "object_fit": null,
            "object_position": null,
            "order": null,
            "overflow": null,
            "overflow_x": null,
            "overflow_y": null,
            "padding": null,
            "right": null,
            "top": null,
            "visibility": null,
            "width": null
          }
        },
        "7fb569bf3aac40a19da72d4cbaaad25e": {
          "model_module": "@jupyter-widgets/base",
          "model_name": "LayoutModel",
          "model_module_version": "1.2.0",
          "state": {
            "_model_module": "@jupyter-widgets/base",
            "_model_module_version": "1.2.0",
            "_model_name": "LayoutModel",
            "_view_count": null,
            "_view_module": "@jupyter-widgets/base",
            "_view_module_version": "1.2.0",
            "_view_name": "LayoutView",
            "align_content": null,
            "align_items": null,
            "align_self": null,
            "border": null,
            "bottom": null,
            "display": null,
            "flex": null,
            "flex_flow": null,
            "grid_area": null,
            "grid_auto_columns": null,
            "grid_auto_flow": null,
            "grid_auto_rows": null,
            "grid_column": null,
            "grid_gap": null,
            "grid_row": null,
            "grid_template_areas": null,
            "grid_template_columns": null,
            "grid_template_rows": null,
            "height": null,
            "justify_content": null,
            "justify_items": null,
            "left": null,
            "margin": null,
            "max_height": null,
            "max_width": null,
            "min_height": null,
            "min_width": null,
            "object_fit": null,
            "object_position": null,
            "order": null,
            "overflow": null,
            "overflow_x": null,
            "overflow_y": null,
            "padding": null,
            "right": null,
            "top": null,
            "visibility": null,
            "width": null
          }
        },
        "7cabde964fb44623a94533d891882fc1": {
          "model_module": "@jupyter-widgets/controls",
          "model_name": "DescriptionStyleModel",
          "model_module_version": "1.5.0",
          "state": {
            "_model_module": "@jupyter-widgets/controls",
            "_model_module_version": "1.5.0",
            "_model_name": "DescriptionStyleModel",
            "_view_count": null,
            "_view_module": "@jupyter-widgets/base",
            "_view_module_version": "1.2.0",
            "_view_name": "StyleView",
            "description_width": ""
          }
        },
        "ec02b02439504fe8ae2914180a647cef": {
          "model_module": "@jupyter-widgets/base",
          "model_name": "LayoutModel",
          "model_module_version": "1.2.0",
          "state": {
            "_model_module": "@jupyter-widgets/base",
            "_model_module_version": "1.2.0",
            "_model_name": "LayoutModel",
            "_view_count": null,
            "_view_module": "@jupyter-widgets/base",
            "_view_module_version": "1.2.0",
            "_view_name": "LayoutView",
            "align_content": null,
            "align_items": null,
            "align_self": null,
            "border": null,
            "bottom": null,
            "display": null,
            "flex": null,
            "flex_flow": null,
            "grid_area": null,
            "grid_auto_columns": null,
            "grid_auto_flow": null,
            "grid_auto_rows": null,
            "grid_column": null,
            "grid_gap": null,
            "grid_row": null,
            "grid_template_areas": null,
            "grid_template_columns": null,
            "grid_template_rows": null,
            "height": null,
            "justify_content": null,
            "justify_items": null,
            "left": null,
            "margin": null,
            "max_height": null,
            "max_width": null,
            "min_height": null,
            "min_width": null,
            "object_fit": null,
            "object_position": null,
            "order": null,
            "overflow": null,
            "overflow_x": null,
            "overflow_y": null,
            "padding": null,
            "right": null,
            "top": null,
            "visibility": null,
            "width": null
          }
        },
        "1ebfff7f803d47a089073ecd481c8709": {
          "model_module": "@jupyter-widgets/controls",
          "model_name": "ProgressStyleModel",
          "model_module_version": "1.5.0",
          "state": {
            "_model_module": "@jupyter-widgets/controls",
            "_model_module_version": "1.5.0",
            "_model_name": "ProgressStyleModel",
            "_view_count": null,
            "_view_module": "@jupyter-widgets/base",
            "_view_module_version": "1.2.0",
            "_view_name": "StyleView",
            "bar_color": null,
            "description_width": ""
          }
        },
        "9594ee00ec0240f798a643b8b54b576e": {
          "model_module": "@jupyter-widgets/base",
          "model_name": "LayoutModel",
          "model_module_version": "1.2.0",
          "state": {
            "_model_module": "@jupyter-widgets/base",
            "_model_module_version": "1.2.0",
            "_model_name": "LayoutModel",
            "_view_count": null,
            "_view_module": "@jupyter-widgets/base",
            "_view_module_version": "1.2.0",
            "_view_name": "LayoutView",
            "align_content": null,
            "align_items": null,
            "align_self": null,
            "border": null,
            "bottom": null,
            "display": null,
            "flex": null,
            "flex_flow": null,
            "grid_area": null,
            "grid_auto_columns": null,
            "grid_auto_flow": null,
            "grid_auto_rows": null,
            "grid_column": null,
            "grid_gap": null,
            "grid_row": null,
            "grid_template_areas": null,
            "grid_template_columns": null,
            "grid_template_rows": null,
            "height": null,
            "justify_content": null,
            "justify_items": null,
            "left": null,
            "margin": null,
            "max_height": null,
            "max_width": null,
            "min_height": null,
            "min_width": null,
            "object_fit": null,
            "object_position": null,
            "order": null,
            "overflow": null,
            "overflow_x": null,
            "overflow_y": null,
            "padding": null,
            "right": null,
            "top": null,
            "visibility": null,
            "width": null
          }
        },
        "7f9d686368e74b4b8d28c7857539c954": {
          "model_module": "@jupyter-widgets/controls",
          "model_name": "DescriptionStyleModel",
          "model_module_version": "1.5.0",
          "state": {
            "_model_module": "@jupyter-widgets/controls",
            "_model_module_version": "1.5.0",
            "_model_name": "DescriptionStyleModel",
            "_view_count": null,
            "_view_module": "@jupyter-widgets/base",
            "_view_module_version": "1.2.0",
            "_view_name": "StyleView",
            "description_width": ""
          }
        },
        "d9945051e12344cc83a7a0d7761e617d": {
          "model_module": "@jupyter-widgets/controls",
          "model_name": "HBoxModel",
          "model_module_version": "1.5.0",
          "state": {
            "_dom_classes": [],
            "_model_module": "@jupyter-widgets/controls",
            "_model_module_version": "1.5.0",
            "_model_name": "HBoxModel",
            "_view_count": null,
            "_view_module": "@jupyter-widgets/controls",
            "_view_module_version": "1.5.0",
            "_view_name": "HBoxView",
            "box_style": "",
            "children": [
              "IPY_MODEL_14596964f9584283a32f98838f355615",
              "IPY_MODEL_0488f2487dcd47af90bcd1174629519a",
              "IPY_MODEL_ae23b3f5f28d4e75aa0c80663f3f9970"
            ],
            "layout": "IPY_MODEL_f5e051a83f8449da98652c8146cbdb8c"
          }
        },
        "14596964f9584283a32f98838f355615": {
          "model_module": "@jupyter-widgets/controls",
          "model_name": "HTMLModel",
          "model_module_version": "1.5.0",
          "state": {
            "_dom_classes": [],
            "_model_module": "@jupyter-widgets/controls",
            "_model_module_version": "1.5.0",
            "_model_name": "HTMLModel",
            "_view_count": null,
            "_view_module": "@jupyter-widgets/controls",
            "_view_module_version": "1.5.0",
            "_view_name": "HTMLView",
            "description": "",
            "description_tooltip": null,
            "layout": "IPY_MODEL_4dbb11dabe7a497face773811bfbf772",
            "placeholder": "​",
            "style": "IPY_MODEL_bf0dfa7e2f0445d4b236aa9d36e36672",
            "value": "Downloading (…)/main/tokenizer.json: 100%"
          }
        },
        "0488f2487dcd47af90bcd1174629519a": {
          "model_module": "@jupyter-widgets/controls",
          "model_name": "FloatProgressModel",
          "model_module_version": "1.5.0",
          "state": {
            "_dom_classes": [],
            "_model_module": "@jupyter-widgets/controls",
            "_model_module_version": "1.5.0",
            "_model_name": "FloatProgressModel",
            "_view_count": null,
            "_view_module": "@jupyter-widgets/controls",
            "_view_module_version": "1.5.0",
            "_view_name": "ProgressView",
            "bar_style": "success",
            "description": "",
            "description_tooltip": null,
            "layout": "IPY_MODEL_23848ea223c341279bc6f8caac123842",
            "max": 2113738,
            "min": 0,
            "orientation": "horizontal",
            "style": "IPY_MODEL_a71e9cd2d4924c4ab0b4bb6fed228b40",
            "value": 2113738
          }
        },
        "ae23b3f5f28d4e75aa0c80663f3f9970": {
          "model_module": "@jupyter-widgets/controls",
          "model_name": "HTMLModel",
          "model_module_version": "1.5.0",
          "state": {
            "_dom_classes": [],
            "_model_module": "@jupyter-widgets/controls",
            "_model_module_version": "1.5.0",
            "_model_name": "HTMLModel",
            "_view_count": null,
            "_view_module": "@jupyter-widgets/controls",
            "_view_module_version": "1.5.0",
            "_view_name": "HTMLView",
            "description": "",
            "description_tooltip": null,
            "layout": "IPY_MODEL_4cbf568fe96e4f878ea55023e5779b32",
            "placeholder": "​",
            "style": "IPY_MODEL_2bbbba4d9fa646db8c30038c2304c375",
            "value": " 2.11M/2.11M [00:00&lt;00:00, 6.39MB/s]"
          }
        },
        "f5e051a83f8449da98652c8146cbdb8c": {
          "model_module": "@jupyter-widgets/base",
          "model_name": "LayoutModel",
          "model_module_version": "1.2.0",
          "state": {
            "_model_module": "@jupyter-widgets/base",
            "_model_module_version": "1.2.0",
            "_model_name": "LayoutModel",
            "_view_count": null,
            "_view_module": "@jupyter-widgets/base",
            "_view_module_version": "1.2.0",
            "_view_name": "LayoutView",
            "align_content": null,
            "align_items": null,
            "align_self": null,
            "border": null,
            "bottom": null,
            "display": null,
            "flex": null,
            "flex_flow": null,
            "grid_area": null,
            "grid_auto_columns": null,
            "grid_auto_flow": null,
            "grid_auto_rows": null,
            "grid_column": null,
            "grid_gap": null,
            "grid_row": null,
            "grid_template_areas": null,
            "grid_template_columns": null,
            "grid_template_rows": null,
            "height": null,
            "justify_content": null,
            "justify_items": null,
            "left": null,
            "margin": null,
            "max_height": null,
            "max_width": null,
            "min_height": null,
            "min_width": null,
            "object_fit": null,
            "object_position": null,
            "order": null,
            "overflow": null,
            "overflow_x": null,
            "overflow_y": null,
            "padding": null,
            "right": null,
            "top": null,
            "visibility": null,
            "width": null
          }
        },
        "4dbb11dabe7a497face773811bfbf772": {
          "model_module": "@jupyter-widgets/base",
          "model_name": "LayoutModel",
          "model_module_version": "1.2.0",
          "state": {
            "_model_module": "@jupyter-widgets/base",
            "_model_module_version": "1.2.0",
            "_model_name": "LayoutModel",
            "_view_count": null,
            "_view_module": "@jupyter-widgets/base",
            "_view_module_version": "1.2.0",
            "_view_name": "LayoutView",
            "align_content": null,
            "align_items": null,
            "align_self": null,
            "border": null,
            "bottom": null,
            "display": null,
            "flex": null,
            "flex_flow": null,
            "grid_area": null,
            "grid_auto_columns": null,
            "grid_auto_flow": null,
            "grid_auto_rows": null,
            "grid_column": null,
            "grid_gap": null,
            "grid_row": null,
            "grid_template_areas": null,
            "grid_template_columns": null,
            "grid_template_rows": null,
            "height": null,
            "justify_content": null,
            "justify_items": null,
            "left": null,
            "margin": null,
            "max_height": null,
            "max_width": null,
            "min_height": null,
            "min_width": null,
            "object_fit": null,
            "object_position": null,
            "order": null,
            "overflow": null,
            "overflow_x": null,
            "overflow_y": null,
            "padding": null,
            "right": null,
            "top": null,
            "visibility": null,
            "width": null
          }
        },
        "bf0dfa7e2f0445d4b236aa9d36e36672": {
          "model_module": "@jupyter-widgets/controls",
          "model_name": "DescriptionStyleModel",
          "model_module_version": "1.5.0",
          "state": {
            "_model_module": "@jupyter-widgets/controls",
            "_model_module_version": "1.5.0",
            "_model_name": "DescriptionStyleModel",
            "_view_count": null,
            "_view_module": "@jupyter-widgets/base",
            "_view_module_version": "1.2.0",
            "_view_name": "StyleView",
            "description_width": ""
          }
        },
        "23848ea223c341279bc6f8caac123842": {
          "model_module": "@jupyter-widgets/base",
          "model_name": "LayoutModel",
          "model_module_version": "1.2.0",
          "state": {
            "_model_module": "@jupyter-widgets/base",
            "_model_module_version": "1.2.0",
            "_model_name": "LayoutModel",
            "_view_count": null,
            "_view_module": "@jupyter-widgets/base",
            "_view_module_version": "1.2.0",
            "_view_name": "LayoutView",
            "align_content": null,
            "align_items": null,
            "align_self": null,
            "border": null,
            "bottom": null,
            "display": null,
            "flex": null,
            "flex_flow": null,
            "grid_area": null,
            "grid_auto_columns": null,
            "grid_auto_flow": null,
            "grid_auto_rows": null,
            "grid_column": null,
            "grid_gap": null,
            "grid_row": null,
            "grid_template_areas": null,
            "grid_template_columns": null,
            "grid_template_rows": null,
            "height": null,
            "justify_content": null,
            "justify_items": null,
            "left": null,
            "margin": null,
            "max_height": null,
            "max_width": null,
            "min_height": null,
            "min_width": null,
            "object_fit": null,
            "object_position": null,
            "order": null,
            "overflow": null,
            "overflow_x": null,
            "overflow_y": null,
            "padding": null,
            "right": null,
            "top": null,
            "visibility": null,
            "width": null
          }
        },
        "a71e9cd2d4924c4ab0b4bb6fed228b40": {
          "model_module": "@jupyter-widgets/controls",
          "model_name": "ProgressStyleModel",
          "model_module_version": "1.5.0",
          "state": {
            "_model_module": "@jupyter-widgets/controls",
            "_model_module_version": "1.5.0",
            "_model_name": "ProgressStyleModel",
            "_view_count": null,
            "_view_module": "@jupyter-widgets/base",
            "_view_module_version": "1.2.0",
            "_view_name": "StyleView",
            "bar_color": null,
            "description_width": ""
          }
        },
        "4cbf568fe96e4f878ea55023e5779b32": {
          "model_module": "@jupyter-widgets/base",
          "model_name": "LayoutModel",
          "model_module_version": "1.2.0",
          "state": {
            "_model_module": "@jupyter-widgets/base",
            "_model_module_version": "1.2.0",
            "_model_name": "LayoutModel",
            "_view_count": null,
            "_view_module": "@jupyter-widgets/base",
            "_view_module_version": "1.2.0",
            "_view_name": "LayoutView",
            "align_content": null,
            "align_items": null,
            "align_self": null,
            "border": null,
            "bottom": null,
            "display": null,
            "flex": null,
            "flex_flow": null,
            "grid_area": null,
            "grid_auto_columns": null,
            "grid_auto_flow": null,
            "grid_auto_rows": null,
            "grid_column": null,
            "grid_gap": null,
            "grid_row": null,
            "grid_template_areas": null,
            "grid_template_columns": null,
            "grid_template_rows": null,
            "height": null,
            "justify_content": null,
            "justify_items": null,
            "left": null,
            "margin": null,
            "max_height": null,
            "max_width": null,
            "min_height": null,
            "min_width": null,
            "object_fit": null,
            "object_position": null,
            "order": null,
            "overflow": null,
            "overflow_x": null,
            "overflow_y": null,
            "padding": null,
            "right": null,
            "top": null,
            "visibility": null,
            "width": null
          }
        },
        "2bbbba4d9fa646db8c30038c2304c375": {
          "model_module": "@jupyter-widgets/controls",
          "model_name": "DescriptionStyleModel",
          "model_module_version": "1.5.0",
          "state": {
            "_model_module": "@jupyter-widgets/controls",
            "_model_module_version": "1.5.0",
            "_model_name": "DescriptionStyleModel",
            "_view_count": null,
            "_view_module": "@jupyter-widgets/base",
            "_view_module_version": "1.2.0",
            "_view_name": "StyleView",
            "description_width": ""
          }
        },
        "8dcda573e3f84f39a3831a714cd44a6f": {
          "model_module": "@jupyter-widgets/controls",
          "model_name": "HBoxModel",
          "model_module_version": "1.5.0",
          "state": {
            "_dom_classes": [],
            "_model_module": "@jupyter-widgets/controls",
            "_model_module_version": "1.5.0",
            "_model_name": "HBoxModel",
            "_view_count": null,
            "_view_module": "@jupyter-widgets/controls",
            "_view_module_version": "1.5.0",
            "_view_name": "HBoxView",
            "box_style": "",
            "children": [
              "IPY_MODEL_1f41338d7d2b40729f17d8fa19677add",
              "IPY_MODEL_47ee52cf722f48e5b1d937a2b0e0eefc",
              "IPY_MODEL_aa517e556aac4297aa9663cdf128be52"
            ],
            "layout": "IPY_MODEL_6036d15131704a1585f38d67baca3a1f"
          }
        },
        "1f41338d7d2b40729f17d8fa19677add": {
          "model_module": "@jupyter-widgets/controls",
          "model_name": "HTMLModel",
          "model_module_version": "1.5.0",
          "state": {
            "_dom_classes": [],
            "_model_module": "@jupyter-widgets/controls",
            "_model_module_version": "1.5.0",
            "_model_name": "HTMLModel",
            "_view_count": null,
            "_view_module": "@jupyter-widgets/controls",
            "_view_module_version": "1.5.0",
            "_view_name": "HTMLView",
            "description": "",
            "description_tooltip": null,
            "layout": "IPY_MODEL_53663ca478444be197d90ee9710da4b2",
            "placeholder": "​",
            "style": "IPY_MODEL_28270e0066d945aebadf5551b017613a",
            "value": "Downloading (…)cial_tokens_map.json: 100%"
          }
        },
        "47ee52cf722f48e5b1d937a2b0e0eefc": {
          "model_module": "@jupyter-widgets/controls",
          "model_name": "FloatProgressModel",
          "model_module_version": "1.5.0",
          "state": {
            "_dom_classes": [],
            "_model_module": "@jupyter-widgets/controls",
            "_model_module_version": "1.5.0",
            "_model_name": "FloatProgressModel",
            "_view_count": null,
            "_view_module": "@jupyter-widgets/controls",
            "_view_module_version": "1.5.0",
            "_view_name": "ProgressView",
            "bar_style": "success",
            "description": "",
            "description_tooltip": null,
            "layout": "IPY_MODEL_fb24b1457009473e8a36c9c91d851278",
            "max": 99,
            "min": 0,
            "orientation": "horizontal",
            "style": "IPY_MODEL_b7ab2255cf5e4f28a5ee260abe165b27",
            "value": 99
          }
        },
        "aa517e556aac4297aa9663cdf128be52": {
          "model_module": "@jupyter-widgets/controls",
          "model_name": "HTMLModel",
          "model_module_version": "1.5.0",
          "state": {
            "_dom_classes": [],
            "_model_module": "@jupyter-widgets/controls",
            "_model_module_version": "1.5.0",
            "_model_name": "HTMLModel",
            "_view_count": null,
            "_view_module": "@jupyter-widgets/controls",
            "_view_module_version": "1.5.0",
            "_view_name": "HTMLView",
            "description": "",
            "description_tooltip": null,
            "layout": "IPY_MODEL_26ad622e6e3446afa1c564adcabd0082",
            "placeholder": "​",
            "style": "IPY_MODEL_d587dc81941442159a9d0034930e8431",
            "value": " 99.0/99.0 [00:00&lt;00:00, 8.18kB/s]"
          }
        },
        "6036d15131704a1585f38d67baca3a1f": {
          "model_module": "@jupyter-widgets/base",
          "model_name": "LayoutModel",
          "model_module_version": "1.2.0",
          "state": {
            "_model_module": "@jupyter-widgets/base",
            "_model_module_version": "1.2.0",
            "_model_name": "LayoutModel",
            "_view_count": null,
            "_view_module": "@jupyter-widgets/base",
            "_view_module_version": "1.2.0",
            "_view_name": "LayoutView",
            "align_content": null,
            "align_items": null,
            "align_self": null,
            "border": null,
            "bottom": null,
            "display": null,
            "flex": null,
            "flex_flow": null,
            "grid_area": null,
            "grid_auto_columns": null,
            "grid_auto_flow": null,
            "grid_auto_rows": null,
            "grid_column": null,
            "grid_gap": null,
            "grid_row": null,
            "grid_template_areas": null,
            "grid_template_columns": null,
            "grid_template_rows": null,
            "height": null,
            "justify_content": null,
            "justify_items": null,
            "left": null,
            "margin": null,
            "max_height": null,
            "max_width": null,
            "min_height": null,
            "min_width": null,
            "object_fit": null,
            "object_position": null,
            "order": null,
            "overflow": null,
            "overflow_x": null,
            "overflow_y": null,
            "padding": null,
            "right": null,
            "top": null,
            "visibility": null,
            "width": null
          }
        },
        "53663ca478444be197d90ee9710da4b2": {
          "model_module": "@jupyter-widgets/base",
          "model_name": "LayoutModel",
          "model_module_version": "1.2.0",
          "state": {
            "_model_module": "@jupyter-widgets/base",
            "_model_module_version": "1.2.0",
            "_model_name": "LayoutModel",
            "_view_count": null,
            "_view_module": "@jupyter-widgets/base",
            "_view_module_version": "1.2.0",
            "_view_name": "LayoutView",
            "align_content": null,
            "align_items": null,
            "align_self": null,
            "border": null,
            "bottom": null,
            "display": null,
            "flex": null,
            "flex_flow": null,
            "grid_area": null,
            "grid_auto_columns": null,
            "grid_auto_flow": null,
            "grid_auto_rows": null,
            "grid_column": null,
            "grid_gap": null,
            "grid_row": null,
            "grid_template_areas": null,
            "grid_template_columns": null,
            "grid_template_rows": null,
            "height": null,
            "justify_content": null,
            "justify_items": null,
            "left": null,
            "margin": null,
            "max_height": null,
            "max_width": null,
            "min_height": null,
            "min_width": null,
            "object_fit": null,
            "object_position": null,
            "order": null,
            "overflow": null,
            "overflow_x": null,
            "overflow_y": null,
            "padding": null,
            "right": null,
            "top": null,
            "visibility": null,
            "width": null
          }
        },
        "28270e0066d945aebadf5551b017613a": {
          "model_module": "@jupyter-widgets/controls",
          "model_name": "DescriptionStyleModel",
          "model_module_version": "1.5.0",
          "state": {
            "_model_module": "@jupyter-widgets/controls",
            "_model_module_version": "1.5.0",
            "_model_name": "DescriptionStyleModel",
            "_view_count": null,
            "_view_module": "@jupyter-widgets/base",
            "_view_module_version": "1.2.0",
            "_view_name": "StyleView",
            "description_width": ""
          }
        },
        "fb24b1457009473e8a36c9c91d851278": {
          "model_module": "@jupyter-widgets/base",
          "model_name": "LayoutModel",
          "model_module_version": "1.2.0",
          "state": {
            "_model_module": "@jupyter-widgets/base",
            "_model_module_version": "1.2.0",
            "_model_name": "LayoutModel",
            "_view_count": null,
            "_view_module": "@jupyter-widgets/base",
            "_view_module_version": "1.2.0",
            "_view_name": "LayoutView",
            "align_content": null,
            "align_items": null,
            "align_self": null,
            "border": null,
            "bottom": null,
            "display": null,
            "flex": null,
            "flex_flow": null,
            "grid_area": null,
            "grid_auto_columns": null,
            "grid_auto_flow": null,
            "grid_auto_rows": null,
            "grid_column": null,
            "grid_gap": null,
            "grid_row": null,
            "grid_template_areas": null,
            "grid_template_columns": null,
            "grid_template_rows": null,
            "height": null,
            "justify_content": null,
            "justify_items": null,
            "left": null,
            "margin": null,
            "max_height": null,
            "max_width": null,
            "min_height": null,
            "min_width": null,
            "object_fit": null,
            "object_position": null,
            "order": null,
            "overflow": null,
            "overflow_x": null,
            "overflow_y": null,
            "padding": null,
            "right": null,
            "top": null,
            "visibility": null,
            "width": null
          }
        },
        "b7ab2255cf5e4f28a5ee260abe165b27": {
          "model_module": "@jupyter-widgets/controls",
          "model_name": "ProgressStyleModel",
          "model_module_version": "1.5.0",
          "state": {
            "_model_module": "@jupyter-widgets/controls",
            "_model_module_version": "1.5.0",
            "_model_name": "ProgressStyleModel",
            "_view_count": null,
            "_view_module": "@jupyter-widgets/base",
            "_view_module_version": "1.2.0",
            "_view_name": "StyleView",
            "bar_color": null,
            "description_width": ""
          }
        },
        "26ad622e6e3446afa1c564adcabd0082": {
          "model_module": "@jupyter-widgets/base",
          "model_name": "LayoutModel",
          "model_module_version": "1.2.0",
          "state": {
            "_model_module": "@jupyter-widgets/base",
            "_model_module_version": "1.2.0",
            "_model_name": "LayoutModel",
            "_view_count": null,
            "_view_module": "@jupyter-widgets/base",
            "_view_module_version": "1.2.0",
            "_view_name": "LayoutView",
            "align_content": null,
            "align_items": null,
            "align_self": null,
            "border": null,
            "bottom": null,
            "display": null,
            "flex": null,
            "flex_flow": null,
            "grid_area": null,
            "grid_auto_columns": null,
            "grid_auto_flow": null,
            "grid_auto_rows": null,
            "grid_column": null,
            "grid_gap": null,
            "grid_row": null,
            "grid_template_areas": null,
            "grid_template_columns": null,
            "grid_template_rows": null,
            "height": null,
            "justify_content": null,
            "justify_items": null,
            "left": null,
            "margin": null,
            "max_height": null,
            "max_width": null,
            "min_height": null,
            "min_width": null,
            "object_fit": null,
            "object_position": null,
            "order": null,
            "overflow": null,
            "overflow_x": null,
            "overflow_y": null,
            "padding": null,
            "right": null,
            "top": null,
            "visibility": null,
            "width": null
          }
        },
        "d587dc81941442159a9d0034930e8431": {
          "model_module": "@jupyter-widgets/controls",
          "model_name": "DescriptionStyleModel",
          "model_module_version": "1.5.0",
          "state": {
            "_model_module": "@jupyter-widgets/controls",
            "_model_module_version": "1.5.0",
            "_model_name": "DescriptionStyleModel",
            "_view_count": null,
            "_view_module": "@jupyter-widgets/base",
            "_view_module_version": "1.2.0",
            "_view_name": "StyleView",
            "description_width": ""
          }
        }
      }
    }
  },
  "nbformat": 4,
  "nbformat_minor": 0
}